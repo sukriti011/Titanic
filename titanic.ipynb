{
 "cells": [
  {
   "cell_type": "markdown",
   "id": "94b8b07b-1cd2-4b34-a8cc-891dcb7b7edd",
   "metadata": {},
   "source": [
    "Final Project\n",
    "Titanic - Machine Learning from Disaster\n",
    "https://www.kaggle.com/c/titanic (Links to an external site.) \n",
    "\n",
    "Dec 18, 2021 - Final submission deadline.\n",
    "\n",
    "Guideline for this class,\n",
    "\n",
    "1. Top 10% teams worldwide as of 11:59pm on Dec 18, 2021 will get A in this class.\n",
    "2. Feature engineering: create new features from the raw data\n",
    "3. Supervised learning models: Choose 2 supervised learning models from W3, W4, W5\n",
    "4. Advanced models: choose 1 from XGBoost W12 or Neural Network W13 or Deep learning W14 to build your supervised learning models\n",
    "5. Model evaluation: For each of the supervised learning models, evaluate the model using the techniques from W10\n",
    "6. If data size is too big and your model is too slow, feel free to choose small set for your project.\n",
    "7. Your jupyter submission should be in an article quality. Do NOT print huge data set in the notebook. Use head(). Use plotting to visualize your analysis and results. Use markdown to write your comments.\n",
    "8. If you are not in the top 10% teams worldwide, your score is based on completeness on every step as described above.\n",
    "9. Submit in HTML and ipynb format on canvas"
   ]
  },
  {
   "cell_type": "code",
   "execution_count": 1,
   "id": "c7a2c1ce-a05d-4c8a-8a88-4011df4b50ff",
   "metadata": {},
   "outputs": [],
   "source": [
    "import os\n",
    "import pandas as pd\n",
    "import numpy as np\n",
    "import matplotlib.pyplot as plt\n",
    "from datetime import datetime, timedelta, date\n",
    "from sklearn import model_selection\n",
    "import seaborn as sns"
   ]
  },
  {
   "cell_type": "markdown",
   "id": "778668d1-414a-4e45-a201-30d8121cacf7",
   "metadata": {},
   "source": [
    "# Data loading and analysis"
   ]
  },
  {
   "cell_type": "code",
   "execution_count": 2,
   "id": "91c50bb4-b2c7-42a7-afef-d5964a059fe8",
   "metadata": {
    "tags": []
   },
   "outputs": [],
   "source": [
    "train_data = r'titanic/train.csv'"
   ]
  },
  {
   "cell_type": "code",
   "execution_count": 3,
   "id": "0b922847-b741-482d-9378-7494f549cef1",
   "metadata": {},
   "outputs": [
    {
     "name": "stdout",
     "output_type": "stream",
     "text": [
      "(891, 12)\n"
     ]
    },
    {
     "data": {
      "text/html": [
       "<div>\n",
       "<style scoped>\n",
       "    .dataframe tbody tr th:only-of-type {\n",
       "        vertical-align: middle;\n",
       "    }\n",
       "\n",
       "    .dataframe tbody tr th {\n",
       "        vertical-align: top;\n",
       "    }\n",
       "\n",
       "    .dataframe thead th {\n",
       "        text-align: right;\n",
       "    }\n",
       "</style>\n",
       "<table border=\"1\" class=\"dataframe\">\n",
       "  <thead>\n",
       "    <tr style=\"text-align: right;\">\n",
       "      <th></th>\n",
       "      <th>PassengerId</th>\n",
       "      <th>Survived</th>\n",
       "      <th>Pclass</th>\n",
       "      <th>Name</th>\n",
       "      <th>Sex</th>\n",
       "      <th>Age</th>\n",
       "      <th>SibSp</th>\n",
       "      <th>Parch</th>\n",
       "      <th>Ticket</th>\n",
       "      <th>Fare</th>\n",
       "      <th>Cabin</th>\n",
       "      <th>Embarked</th>\n",
       "    </tr>\n",
       "  </thead>\n",
       "  <tbody>\n",
       "    <tr>\n",
       "      <th>0</th>\n",
       "      <td>1</td>\n",
       "      <td>0</td>\n",
       "      <td>3</td>\n",
       "      <td>Braund, Mr. Owen Harris</td>\n",
       "      <td>male</td>\n",
       "      <td>22.0</td>\n",
       "      <td>1</td>\n",
       "      <td>0</td>\n",
       "      <td>A/5 21171</td>\n",
       "      <td>7.2500</td>\n",
       "      <td>NaN</td>\n",
       "      <td>S</td>\n",
       "    </tr>\n",
       "    <tr>\n",
       "      <th>1</th>\n",
       "      <td>2</td>\n",
       "      <td>1</td>\n",
       "      <td>1</td>\n",
       "      <td>Cumings, Mrs. John Bradley (Florence Briggs Th...</td>\n",
       "      <td>female</td>\n",
       "      <td>38.0</td>\n",
       "      <td>1</td>\n",
       "      <td>0</td>\n",
       "      <td>PC 17599</td>\n",
       "      <td>71.2833</td>\n",
       "      <td>C85</td>\n",
       "      <td>C</td>\n",
       "    </tr>\n",
       "    <tr>\n",
       "      <th>2</th>\n",
       "      <td>3</td>\n",
       "      <td>1</td>\n",
       "      <td>3</td>\n",
       "      <td>Heikkinen, Miss. Laina</td>\n",
       "      <td>female</td>\n",
       "      <td>26.0</td>\n",
       "      <td>0</td>\n",
       "      <td>0</td>\n",
       "      <td>STON/O2. 3101282</td>\n",
       "      <td>7.9250</td>\n",
       "      <td>NaN</td>\n",
       "      <td>S</td>\n",
       "    </tr>\n",
       "    <tr>\n",
       "      <th>3</th>\n",
       "      <td>4</td>\n",
       "      <td>1</td>\n",
       "      <td>1</td>\n",
       "      <td>Futrelle, Mrs. Jacques Heath (Lily May Peel)</td>\n",
       "      <td>female</td>\n",
       "      <td>35.0</td>\n",
       "      <td>1</td>\n",
       "      <td>0</td>\n",
       "      <td>113803</td>\n",
       "      <td>53.1000</td>\n",
       "      <td>C123</td>\n",
       "      <td>S</td>\n",
       "    </tr>\n",
       "    <tr>\n",
       "      <th>4</th>\n",
       "      <td>5</td>\n",
       "      <td>0</td>\n",
       "      <td>3</td>\n",
       "      <td>Allen, Mr. William Henry</td>\n",
       "      <td>male</td>\n",
       "      <td>35.0</td>\n",
       "      <td>0</td>\n",
       "      <td>0</td>\n",
       "      <td>373450</td>\n",
       "      <td>8.0500</td>\n",
       "      <td>NaN</td>\n",
       "      <td>S</td>\n",
       "    </tr>\n",
       "  </tbody>\n",
       "</table>\n",
       "</div>"
      ],
      "text/plain": [
       "   PassengerId  Survived  Pclass  \\\n",
       "0            1         0       3   \n",
       "1            2         1       1   \n",
       "2            3         1       3   \n",
       "3            4         1       1   \n",
       "4            5         0       3   \n",
       "\n",
       "                                                Name     Sex   Age  SibSp  \\\n",
       "0                            Braund, Mr. Owen Harris    male  22.0      1   \n",
       "1  Cumings, Mrs. John Bradley (Florence Briggs Th...  female  38.0      1   \n",
       "2                             Heikkinen, Miss. Laina  female  26.0      0   \n",
       "3       Futrelle, Mrs. Jacques Heath (Lily May Peel)  female  35.0      1   \n",
       "4                           Allen, Mr. William Henry    male  35.0      0   \n",
       "\n",
       "   Parch            Ticket     Fare Cabin Embarked  \n",
       "0      0         A/5 21171   7.2500   NaN        S  \n",
       "1      0          PC 17599  71.2833   C85        C  \n",
       "2      0  STON/O2. 3101282   7.9250   NaN        S  \n",
       "3      0            113803  53.1000  C123        S  \n",
       "4      0            373450   8.0500   NaN        S  "
      ]
     },
     "execution_count": 3,
     "metadata": {},
     "output_type": "execute_result"
    }
   ],
   "source": [
    "df_train = pd.read_csv(train_data, header= 0)\n",
    "print(df_train.shape)\n",
    "df_train.head()"
   ]
  },
  {
   "cell_type": "code",
   "execution_count": 4,
   "id": "18d0b278-1a8f-4bdf-8690-9d9c2ae4da6e",
   "metadata": {
    "tags": []
   },
   "outputs": [],
   "source": [
    "test_data = r'titanic/test.csv'"
   ]
  },
  {
   "cell_type": "code",
   "execution_count": 5,
   "id": "d9bdf2b7-29e2-46ea-9e46-ea0b3f584c56",
   "metadata": {},
   "outputs": [
    {
     "name": "stdout",
     "output_type": "stream",
     "text": [
      "(418, 11)\n"
     ]
    },
    {
     "data": {
      "text/html": [
       "<div>\n",
       "<style scoped>\n",
       "    .dataframe tbody tr th:only-of-type {\n",
       "        vertical-align: middle;\n",
       "    }\n",
       "\n",
       "    .dataframe tbody tr th {\n",
       "        vertical-align: top;\n",
       "    }\n",
       "\n",
       "    .dataframe thead th {\n",
       "        text-align: right;\n",
       "    }\n",
       "</style>\n",
       "<table border=\"1\" class=\"dataframe\">\n",
       "  <thead>\n",
       "    <tr style=\"text-align: right;\">\n",
       "      <th></th>\n",
       "      <th>PassengerId</th>\n",
       "      <th>Pclass</th>\n",
       "      <th>Name</th>\n",
       "      <th>Sex</th>\n",
       "      <th>Age</th>\n",
       "      <th>SibSp</th>\n",
       "      <th>Parch</th>\n",
       "      <th>Ticket</th>\n",
       "      <th>Fare</th>\n",
       "      <th>Cabin</th>\n",
       "      <th>Embarked</th>\n",
       "    </tr>\n",
       "  </thead>\n",
       "  <tbody>\n",
       "    <tr>\n",
       "      <th>0</th>\n",
       "      <td>892</td>\n",
       "      <td>3</td>\n",
       "      <td>Kelly, Mr. James</td>\n",
       "      <td>male</td>\n",
       "      <td>34.5</td>\n",
       "      <td>0</td>\n",
       "      <td>0</td>\n",
       "      <td>330911</td>\n",
       "      <td>7.8292</td>\n",
       "      <td>NaN</td>\n",
       "      <td>Q</td>\n",
       "    </tr>\n",
       "    <tr>\n",
       "      <th>1</th>\n",
       "      <td>893</td>\n",
       "      <td>3</td>\n",
       "      <td>Wilkes, Mrs. James (Ellen Needs)</td>\n",
       "      <td>female</td>\n",
       "      <td>47.0</td>\n",
       "      <td>1</td>\n",
       "      <td>0</td>\n",
       "      <td>363272</td>\n",
       "      <td>7.0000</td>\n",
       "      <td>NaN</td>\n",
       "      <td>S</td>\n",
       "    </tr>\n",
       "    <tr>\n",
       "      <th>2</th>\n",
       "      <td>894</td>\n",
       "      <td>2</td>\n",
       "      <td>Myles, Mr. Thomas Francis</td>\n",
       "      <td>male</td>\n",
       "      <td>62.0</td>\n",
       "      <td>0</td>\n",
       "      <td>0</td>\n",
       "      <td>240276</td>\n",
       "      <td>9.6875</td>\n",
       "      <td>NaN</td>\n",
       "      <td>Q</td>\n",
       "    </tr>\n",
       "    <tr>\n",
       "      <th>3</th>\n",
       "      <td>895</td>\n",
       "      <td>3</td>\n",
       "      <td>Wirz, Mr. Albert</td>\n",
       "      <td>male</td>\n",
       "      <td>27.0</td>\n",
       "      <td>0</td>\n",
       "      <td>0</td>\n",
       "      <td>315154</td>\n",
       "      <td>8.6625</td>\n",
       "      <td>NaN</td>\n",
       "      <td>S</td>\n",
       "    </tr>\n",
       "    <tr>\n",
       "      <th>4</th>\n",
       "      <td>896</td>\n",
       "      <td>3</td>\n",
       "      <td>Hirvonen, Mrs. Alexander (Helga E Lindqvist)</td>\n",
       "      <td>female</td>\n",
       "      <td>22.0</td>\n",
       "      <td>1</td>\n",
       "      <td>1</td>\n",
       "      <td>3101298</td>\n",
       "      <td>12.2875</td>\n",
       "      <td>NaN</td>\n",
       "      <td>S</td>\n",
       "    </tr>\n",
       "  </tbody>\n",
       "</table>\n",
       "</div>"
      ],
      "text/plain": [
       "   PassengerId  Pclass                                          Name     Sex  \\\n",
       "0          892       3                              Kelly, Mr. James    male   \n",
       "1          893       3              Wilkes, Mrs. James (Ellen Needs)  female   \n",
       "2          894       2                     Myles, Mr. Thomas Francis    male   \n",
       "3          895       3                              Wirz, Mr. Albert    male   \n",
       "4          896       3  Hirvonen, Mrs. Alexander (Helga E Lindqvist)  female   \n",
       "\n",
       "    Age  SibSp  Parch   Ticket     Fare Cabin Embarked  \n",
       "0  34.5      0      0   330911   7.8292   NaN        Q  \n",
       "1  47.0      1      0   363272   7.0000   NaN        S  \n",
       "2  62.0      0      0   240276   9.6875   NaN        Q  \n",
       "3  27.0      0      0   315154   8.6625   NaN        S  \n",
       "4  22.0      1      1  3101298  12.2875   NaN        S  "
      ]
     },
     "execution_count": 5,
     "metadata": {},
     "output_type": "execute_result"
    }
   ],
   "source": [
    "df_test = pd.read_csv(test_data, header= 0)\n",
    "print(df_test.shape)\n",
    "df_test.head()"
   ]
  },
  {
   "cell_type": "markdown",
   "id": "0c54e005-bdac-4a2f-a2b3-7de1df4c165a",
   "metadata": {},
   "source": [
    "# Feature engineering"
   ]
  },
  {
   "cell_type": "markdown",
   "id": "0bedac2d-945e-40f8-9f0e-3110da08ba38",
   "metadata": {},
   "source": [
    "## Create new features\n",
    "\n",
    "- Create \"Title\" based on the title provided in the person name \n",
    "- Create \"FamilySize\" based on the parch and sibsp\n",
    "- Create \"CabinClass\" based on the cabin prefix (A, B, C, Unknown)"
   ]
  },
  {
   "cell_type": "markdown",
   "id": "3a7c2006-0bf9-467c-b122-cafd4e34fde7",
   "metadata": {},
   "source": [
    "### New feature: Title"
   ]
  },
  {
   "cell_type": "code",
   "execution_count": 6,
   "id": "86f91c2d-9187-4dc6-bd08-189bec911615",
   "metadata": {},
   "outputs": [
    {
     "name": "stderr",
     "output_type": "stream",
     "text": [
      "/Users/sukritisingh/anaconda3/envs/CS675/lib/python3.7/site-packages/ipykernel_launcher.py:6: FutureWarning: The default value of regex will change from True to False in a future version.\n",
      "  \n"
     ]
    },
    {
     "data": {
      "text/plain": [
       "Mr        537\n",
       "Miss      183\n",
       "Mrs       131\n",
       "Master     40\n",
       "Name: Title, dtype: int64"
      ]
     },
     "execution_count": 6,
     "metadata": {},
     "output_type": "execute_result"
    }
   ],
   "source": [
    "def create_feature_title(df):\n",
    "    names = df['Name'].str.split(\",\", expand=True)[1]\n",
    "    df['Title'] = names.str.split(\".\", expand=True)[0]\n",
    "    df['Title'] = df['Title'].str.strip()\n",
    "    df['Title'] = df['Title'].str.replace('Ms', 'Miss')\n",
    "    df['Title'] = df['Title'].str.replace('Mlle|Mme|Lady|the Countess', 'Mrs')\n",
    "    df['Title'] = df['Title'].str.replace('Sir', 'Mr')\n",
    "    # Change from Jonkheer, Dr, Col, Capt, Major, Rev, Don to Mr or Mrs based on sex\n",
    "    df.loc[df['Title'].str.match('Jonkheer|Dr|Col|Capt|Major|Rev|Don') & df['Sex'].str.match('male'), 'Title'] = 'Mr'\n",
    "    df.loc[df['Title'].str.match('Jonkheer|Dr|Col|Capt|Major|Rev|Don') & df['Sex'].str.match('female'), 'Title'] = 'Mrs'    \n",
    "    return df\n",
    "df_train = create_feature_title(df_train)\n",
    "df_test = create_feature_title(df_test)\n",
    "df_train['Title'].value_counts()"
   ]
  },
  {
   "cell_type": "code",
   "execution_count": 7,
   "id": "b88a6a3c-a937-4cdb-ba0d-81c7afad502c",
   "metadata": {},
   "outputs": [
    {
     "data": {
      "text/html": [
       "<div>\n",
       "<style scoped>\n",
       "    .dataframe tbody tr th:only-of-type {\n",
       "        vertical-align: middle;\n",
       "    }\n",
       "\n",
       "    .dataframe tbody tr th {\n",
       "        vertical-align: top;\n",
       "    }\n",
       "\n",
       "    .dataframe thead th {\n",
       "        text-align: right;\n",
       "    }\n",
       "</style>\n",
       "<table border=\"1\" class=\"dataframe\">\n",
       "  <thead>\n",
       "    <tr style=\"text-align: right;\">\n",
       "      <th></th>\n",
       "      <th>PassengerId</th>\n",
       "      <th>Pclass</th>\n",
       "      <th>Name</th>\n",
       "      <th>Sex</th>\n",
       "      <th>Age</th>\n",
       "      <th>SibSp</th>\n",
       "      <th>Parch</th>\n",
       "      <th>Ticket</th>\n",
       "      <th>Fare</th>\n",
       "      <th>Cabin</th>\n",
       "      <th>Embarked</th>\n",
       "      <th>Title</th>\n",
       "    </tr>\n",
       "  </thead>\n",
       "  <tbody>\n",
       "    <tr>\n",
       "      <th>6</th>\n",
       "      <td>898</td>\n",
       "      <td>3</td>\n",
       "      <td>Connolly, Miss. Kate</td>\n",
       "      <td>female</td>\n",
       "      <td>30.0</td>\n",
       "      <td>0</td>\n",
       "      <td>0</td>\n",
       "      <td>330972</td>\n",
       "      <td>7.6292</td>\n",
       "      <td>NaN</td>\n",
       "      <td>Q</td>\n",
       "      <td>Miss</td>\n",
       "    </tr>\n",
       "    <tr>\n",
       "      <th>18</th>\n",
       "      <td>910</td>\n",
       "      <td>3</td>\n",
       "      <td>Ilmakangas, Miss. Ida Livija</td>\n",
       "      <td>female</td>\n",
       "      <td>27.0</td>\n",
       "      <td>1</td>\n",
       "      <td>0</td>\n",
       "      <td>STON/O2. 3101270</td>\n",
       "      <td>7.9250</td>\n",
       "      <td>NaN</td>\n",
       "      <td>S</td>\n",
       "      <td>Miss</td>\n",
       "    </tr>\n",
       "    <tr>\n",
       "      <th>26</th>\n",
       "      <td>918</td>\n",
       "      <td>1</td>\n",
       "      <td>Ostby, Miss. Helene Ragnhild</td>\n",
       "      <td>female</td>\n",
       "      <td>22.0</td>\n",
       "      <td>0</td>\n",
       "      <td>1</td>\n",
       "      <td>113509</td>\n",
       "      <td>61.9792</td>\n",
       "      <td>B36</td>\n",
       "      <td>C</td>\n",
       "      <td>Miss</td>\n",
       "    </tr>\n",
       "    <tr>\n",
       "      <th>36</th>\n",
       "      <td>928</td>\n",
       "      <td>3</td>\n",
       "      <td>Roth, Miss. Sarah A</td>\n",
       "      <td>female</td>\n",
       "      <td>NaN</td>\n",
       "      <td>0</td>\n",
       "      <td>0</td>\n",
       "      <td>342712</td>\n",
       "      <td>8.0500</td>\n",
       "      <td>NaN</td>\n",
       "      <td>S</td>\n",
       "      <td>Miss</td>\n",
       "    </tr>\n",
       "    <tr>\n",
       "      <th>37</th>\n",
       "      <td>929</td>\n",
       "      <td>3</td>\n",
       "      <td>Cacic, Miss. Manda</td>\n",
       "      <td>female</td>\n",
       "      <td>21.0</td>\n",
       "      <td>0</td>\n",
       "      <td>0</td>\n",
       "      <td>315087</td>\n",
       "      <td>8.6625</td>\n",
       "      <td>NaN</td>\n",
       "      <td>S</td>\n",
       "      <td>Miss</td>\n",
       "    </tr>\n",
       "  </tbody>\n",
       "</table>\n",
       "</div>"
      ],
      "text/plain": [
       "    PassengerId  Pclass                          Name     Sex   Age  SibSp  \\\n",
       "6           898       3          Connolly, Miss. Kate  female  30.0      0   \n",
       "18          910       3  Ilmakangas, Miss. Ida Livija  female  27.0      1   \n",
       "26          918       1  Ostby, Miss. Helene Ragnhild  female  22.0      0   \n",
       "36          928       3           Roth, Miss. Sarah A  female   NaN      0   \n",
       "37          929       3            Cacic, Miss. Manda  female  21.0      0   \n",
       "\n",
       "    Parch            Ticket     Fare Cabin Embarked Title  \n",
       "6       0            330972   7.6292   NaN        Q  Miss  \n",
       "18      0  STON/O2. 3101270   7.9250   NaN        S  Miss  \n",
       "26      1            113509  61.9792   B36        C  Miss  \n",
       "36      0            342712   8.0500   NaN        S  Miss  \n",
       "37      0            315087   8.6625   NaN        S  Miss  "
      ]
     },
     "execution_count": 7,
     "metadata": {},
     "output_type": "execute_result"
    }
   ],
   "source": [
    "df_test[df_test.Title=='Miss'].head()"
   ]
  },
  {
   "cell_type": "markdown",
   "id": "a9d25bdd-8a5d-4f68-a320-30d705b6443e",
   "metadata": {},
   "source": [
    "### New feature: Family size"
   ]
  },
  {
   "cell_type": "code",
   "execution_count": 8,
   "id": "36be2479-2790-4e6c-8a67-5b44c8122ea2",
   "metadata": {},
   "outputs": [],
   "source": [
    "def create_feature_family_size(df):\n",
    "    df['FamilySize'] = df['Parch'] + df['SibSp']\n",
    "    return df\n",
    "df_train = create_feature_family_size(df_train)\n",
    "df_test = create_feature_family_size(df_test)"
   ]
  },
  {
   "cell_type": "markdown",
   "id": "34a0fbe3-91cb-492c-8127-b5a7e59a114b",
   "metadata": {},
   "source": [
    "### New feature: CabinClass"
   ]
  },
  {
   "cell_type": "code",
   "execution_count": 9,
   "id": "97553fe9-be5b-402a-83f5-ed53b0d6b3d0",
   "metadata": {},
   "outputs": [
    {
     "data": {
      "text/plain": [
       "N    687\n",
       "C     59\n",
       "B     47\n",
       "D     33\n",
       "E     32\n",
       "A     15\n",
       "F     13\n",
       "G      4\n",
       "T      1\n",
       "Name: CabinClass, dtype: int64"
      ]
     },
     "execution_count": 9,
     "metadata": {},
     "output_type": "execute_result"
    }
   ],
   "source": [
    "def create_feature_cabin_class(df):\n",
    "    df['CabinClass'] = df['Cabin']\n",
    "    df['CabinClass'].fillna('N', inplace=True)\n",
    "    df['CabinClass'] = df['CabinClass'].astype(str).str[0]\n",
    "    return df\n",
    "df_train = create_feature_cabin_class(df_train)\n",
    "df_test = create_feature_cabin_class(df_test)\n",
    "df_train['CabinClass'].value_counts()"
   ]
  },
  {
   "cell_type": "code",
   "execution_count": 10,
   "id": "46b5086c-f2a2-4a04-8b2e-75a9218474d8",
   "metadata": {},
   "outputs": [
    {
     "data": {
      "text/html": [
       "<div>\n",
       "<style scoped>\n",
       "    .dataframe tbody tr th:only-of-type {\n",
       "        vertical-align: middle;\n",
       "    }\n",
       "\n",
       "    .dataframe tbody tr th {\n",
       "        vertical-align: top;\n",
       "    }\n",
       "\n",
       "    .dataframe thead th {\n",
       "        text-align: right;\n",
       "    }\n",
       "</style>\n",
       "<table border=\"1\" class=\"dataframe\">\n",
       "  <thead>\n",
       "    <tr style=\"text-align: right;\">\n",
       "      <th></th>\n",
       "      <th>PassengerId</th>\n",
       "      <th>Survived</th>\n",
       "      <th>Pclass</th>\n",
       "      <th>Name</th>\n",
       "      <th>Sex</th>\n",
       "      <th>Age</th>\n",
       "      <th>SibSp</th>\n",
       "      <th>Parch</th>\n",
       "      <th>Ticket</th>\n",
       "      <th>Fare</th>\n",
       "      <th>Cabin</th>\n",
       "      <th>Embarked</th>\n",
       "      <th>Title</th>\n",
       "      <th>FamilySize</th>\n",
       "      <th>CabinClass</th>\n",
       "    </tr>\n",
       "  </thead>\n",
       "  <tbody>\n",
       "    <tr>\n",
       "      <th>0</th>\n",
       "      <td>1</td>\n",
       "      <td>0</td>\n",
       "      <td>3</td>\n",
       "      <td>Braund, Mr. Owen Harris</td>\n",
       "      <td>male</td>\n",
       "      <td>22.0</td>\n",
       "      <td>1</td>\n",
       "      <td>0</td>\n",
       "      <td>A/5 21171</td>\n",
       "      <td>7.2500</td>\n",
       "      <td>NaN</td>\n",
       "      <td>S</td>\n",
       "      <td>Mr</td>\n",
       "      <td>1</td>\n",
       "      <td>N</td>\n",
       "    </tr>\n",
       "    <tr>\n",
       "      <th>1</th>\n",
       "      <td>2</td>\n",
       "      <td>1</td>\n",
       "      <td>1</td>\n",
       "      <td>Cumings, Mrs. John Bradley (Florence Briggs Th...</td>\n",
       "      <td>female</td>\n",
       "      <td>38.0</td>\n",
       "      <td>1</td>\n",
       "      <td>0</td>\n",
       "      <td>PC 17599</td>\n",
       "      <td>71.2833</td>\n",
       "      <td>C85</td>\n",
       "      <td>C</td>\n",
       "      <td>Mrs</td>\n",
       "      <td>1</td>\n",
       "      <td>C</td>\n",
       "    </tr>\n",
       "    <tr>\n",
       "      <th>2</th>\n",
       "      <td>3</td>\n",
       "      <td>1</td>\n",
       "      <td>3</td>\n",
       "      <td>Heikkinen, Miss. Laina</td>\n",
       "      <td>female</td>\n",
       "      <td>26.0</td>\n",
       "      <td>0</td>\n",
       "      <td>0</td>\n",
       "      <td>STON/O2. 3101282</td>\n",
       "      <td>7.9250</td>\n",
       "      <td>NaN</td>\n",
       "      <td>S</td>\n",
       "      <td>Miss</td>\n",
       "      <td>0</td>\n",
       "      <td>N</td>\n",
       "    </tr>\n",
       "    <tr>\n",
       "      <th>3</th>\n",
       "      <td>4</td>\n",
       "      <td>1</td>\n",
       "      <td>1</td>\n",
       "      <td>Futrelle, Mrs. Jacques Heath (Lily May Peel)</td>\n",
       "      <td>female</td>\n",
       "      <td>35.0</td>\n",
       "      <td>1</td>\n",
       "      <td>0</td>\n",
       "      <td>113803</td>\n",
       "      <td>53.1000</td>\n",
       "      <td>C123</td>\n",
       "      <td>S</td>\n",
       "      <td>Mrs</td>\n",
       "      <td>1</td>\n",
       "      <td>C</td>\n",
       "    </tr>\n",
       "    <tr>\n",
       "      <th>4</th>\n",
       "      <td>5</td>\n",
       "      <td>0</td>\n",
       "      <td>3</td>\n",
       "      <td>Allen, Mr. William Henry</td>\n",
       "      <td>male</td>\n",
       "      <td>35.0</td>\n",
       "      <td>0</td>\n",
       "      <td>0</td>\n",
       "      <td>373450</td>\n",
       "      <td>8.0500</td>\n",
       "      <td>NaN</td>\n",
       "      <td>S</td>\n",
       "      <td>Mr</td>\n",
       "      <td>0</td>\n",
       "      <td>N</td>\n",
       "    </tr>\n",
       "  </tbody>\n",
       "</table>\n",
       "</div>"
      ],
      "text/plain": [
       "   PassengerId  Survived  Pclass  \\\n",
       "0            1         0       3   \n",
       "1            2         1       1   \n",
       "2            3         1       3   \n",
       "3            4         1       1   \n",
       "4            5         0       3   \n",
       "\n",
       "                                                Name     Sex   Age  SibSp  \\\n",
       "0                            Braund, Mr. Owen Harris    male  22.0      1   \n",
       "1  Cumings, Mrs. John Bradley (Florence Briggs Th...  female  38.0      1   \n",
       "2                             Heikkinen, Miss. Laina  female  26.0      0   \n",
       "3       Futrelle, Mrs. Jacques Heath (Lily May Peel)  female  35.0      1   \n",
       "4                           Allen, Mr. William Henry    male  35.0      0   \n",
       "\n",
       "   Parch            Ticket     Fare Cabin Embarked Title  FamilySize  \\\n",
       "0      0         A/5 21171   7.2500   NaN        S    Mr           1   \n",
       "1      0          PC 17599  71.2833   C85        C   Mrs           1   \n",
       "2      0  STON/O2. 3101282   7.9250   NaN        S  Miss           0   \n",
       "3      0            113803  53.1000  C123        S   Mrs           1   \n",
       "4      0            373450   8.0500   NaN        S    Mr           0   \n",
       "\n",
       "  CabinClass  \n",
       "0          N  \n",
       "1          C  \n",
       "2          N  \n",
       "3          C  \n",
       "4          N  "
      ]
     },
     "execution_count": 10,
     "metadata": {},
     "output_type": "execute_result"
    }
   ],
   "source": [
    "df_train.head()"
   ]
  },
  {
   "cell_type": "code",
   "execution_count": 11,
   "id": "6a79d707-4661-43b3-9250-62f62eb07c7b",
   "metadata": {},
   "outputs": [
    {
     "data": {
      "text/html": [
       "<div>\n",
       "<style scoped>\n",
       "    .dataframe tbody tr th:only-of-type {\n",
       "        vertical-align: middle;\n",
       "    }\n",
       "\n",
       "    .dataframe tbody tr th {\n",
       "        vertical-align: top;\n",
       "    }\n",
       "\n",
       "    .dataframe thead th {\n",
       "        text-align: right;\n",
       "    }\n",
       "</style>\n",
       "<table border=\"1\" class=\"dataframe\">\n",
       "  <thead>\n",
       "    <tr style=\"text-align: right;\">\n",
       "      <th></th>\n",
       "      <th>PassengerId</th>\n",
       "      <th>Pclass</th>\n",
       "      <th>Name</th>\n",
       "      <th>Sex</th>\n",
       "      <th>Age</th>\n",
       "      <th>SibSp</th>\n",
       "      <th>Parch</th>\n",
       "      <th>Ticket</th>\n",
       "      <th>Fare</th>\n",
       "      <th>Cabin</th>\n",
       "      <th>Embarked</th>\n",
       "      <th>Title</th>\n",
       "      <th>FamilySize</th>\n",
       "      <th>CabinClass</th>\n",
       "    </tr>\n",
       "  </thead>\n",
       "  <tbody>\n",
       "    <tr>\n",
       "      <th>0</th>\n",
       "      <td>892</td>\n",
       "      <td>3</td>\n",
       "      <td>Kelly, Mr. James</td>\n",
       "      <td>male</td>\n",
       "      <td>34.5</td>\n",
       "      <td>0</td>\n",
       "      <td>0</td>\n",
       "      <td>330911</td>\n",
       "      <td>7.8292</td>\n",
       "      <td>NaN</td>\n",
       "      <td>Q</td>\n",
       "      <td>Mr</td>\n",
       "      <td>0</td>\n",
       "      <td>N</td>\n",
       "    </tr>\n",
       "    <tr>\n",
       "      <th>1</th>\n",
       "      <td>893</td>\n",
       "      <td>3</td>\n",
       "      <td>Wilkes, Mrs. James (Ellen Needs)</td>\n",
       "      <td>female</td>\n",
       "      <td>47.0</td>\n",
       "      <td>1</td>\n",
       "      <td>0</td>\n",
       "      <td>363272</td>\n",
       "      <td>7.0000</td>\n",
       "      <td>NaN</td>\n",
       "      <td>S</td>\n",
       "      <td>Mrs</td>\n",
       "      <td>1</td>\n",
       "      <td>N</td>\n",
       "    </tr>\n",
       "    <tr>\n",
       "      <th>2</th>\n",
       "      <td>894</td>\n",
       "      <td>2</td>\n",
       "      <td>Myles, Mr. Thomas Francis</td>\n",
       "      <td>male</td>\n",
       "      <td>62.0</td>\n",
       "      <td>0</td>\n",
       "      <td>0</td>\n",
       "      <td>240276</td>\n",
       "      <td>9.6875</td>\n",
       "      <td>NaN</td>\n",
       "      <td>Q</td>\n",
       "      <td>Mr</td>\n",
       "      <td>0</td>\n",
       "      <td>N</td>\n",
       "    </tr>\n",
       "    <tr>\n",
       "      <th>3</th>\n",
       "      <td>895</td>\n",
       "      <td>3</td>\n",
       "      <td>Wirz, Mr. Albert</td>\n",
       "      <td>male</td>\n",
       "      <td>27.0</td>\n",
       "      <td>0</td>\n",
       "      <td>0</td>\n",
       "      <td>315154</td>\n",
       "      <td>8.6625</td>\n",
       "      <td>NaN</td>\n",
       "      <td>S</td>\n",
       "      <td>Mr</td>\n",
       "      <td>0</td>\n",
       "      <td>N</td>\n",
       "    </tr>\n",
       "    <tr>\n",
       "      <th>4</th>\n",
       "      <td>896</td>\n",
       "      <td>3</td>\n",
       "      <td>Hirvonen, Mrs. Alexander (Helga E Lindqvist)</td>\n",
       "      <td>female</td>\n",
       "      <td>22.0</td>\n",
       "      <td>1</td>\n",
       "      <td>1</td>\n",
       "      <td>3101298</td>\n",
       "      <td>12.2875</td>\n",
       "      <td>NaN</td>\n",
       "      <td>S</td>\n",
       "      <td>Mrs</td>\n",
       "      <td>2</td>\n",
       "      <td>N</td>\n",
       "    </tr>\n",
       "  </tbody>\n",
       "</table>\n",
       "</div>"
      ],
      "text/plain": [
       "   PassengerId  Pclass                                          Name     Sex  \\\n",
       "0          892       3                              Kelly, Mr. James    male   \n",
       "1          893       3              Wilkes, Mrs. James (Ellen Needs)  female   \n",
       "2          894       2                     Myles, Mr. Thomas Francis    male   \n",
       "3          895       3                              Wirz, Mr. Albert    male   \n",
       "4          896       3  Hirvonen, Mrs. Alexander (Helga E Lindqvist)  female   \n",
       "\n",
       "    Age  SibSp  Parch   Ticket     Fare Cabin Embarked Title  FamilySize  \\\n",
       "0  34.5      0      0   330911   7.8292   NaN        Q    Mr           0   \n",
       "1  47.0      1      0   363272   7.0000   NaN        S   Mrs           1   \n",
       "2  62.0      0      0   240276   9.6875   NaN        Q    Mr           0   \n",
       "3  27.0      0      0   315154   8.6625   NaN        S    Mr           0   \n",
       "4  22.0      1      1  3101298  12.2875   NaN        S   Mrs           2   \n",
       "\n",
       "  CabinClass  \n",
       "0          N  \n",
       "1          N  \n",
       "2          N  \n",
       "3          N  \n",
       "4          N  "
      ]
     },
     "execution_count": 11,
     "metadata": {},
     "output_type": "execute_result"
    }
   ],
   "source": [
    "df_test.head()"
   ]
  },
  {
   "cell_type": "markdown",
   "id": "de7da91e-10cb-4bbe-baf6-d42189a45306",
   "metadata": {},
   "source": [
    "## Handle missing data"
   ]
  },
  {
   "cell_type": "code",
   "execution_count": 12,
   "id": "584cfe51-6bb1-43a5-b472-bdde080a7009",
   "metadata": {},
   "outputs": [
    {
     "data": {
      "text/plain": [
       "PassengerId      0\n",
       "Survived         0\n",
       "Pclass           0\n",
       "Name             0\n",
       "Sex              0\n",
       "Age            177\n",
       "SibSp            0\n",
       "Parch            0\n",
       "Ticket           0\n",
       "Fare             0\n",
       "Cabin          687\n",
       "Embarked         2\n",
       "Title            0\n",
       "FamilySize       0\n",
       "CabinClass       0\n",
       "dtype: int64"
      ]
     },
     "execution_count": 12,
     "metadata": {},
     "output_type": "execute_result"
    }
   ],
   "source": [
    "df_train.isnull().sum()"
   ]
  },
  {
   "cell_type": "code",
   "execution_count": 13,
   "id": "f74bc46c-4f34-476b-879d-d6a9986c6106",
   "metadata": {},
   "outputs": [
    {
     "data": {
      "text/plain": [
       "PassengerId      int64\n",
       "Survived         int64\n",
       "Pclass           int64\n",
       "Name            object\n",
       "Sex             object\n",
       "Age            float64\n",
       "SibSp            int64\n",
       "Parch            int64\n",
       "Ticket          object\n",
       "Fare           float64\n",
       "Cabin           object\n",
       "Embarked        object\n",
       "Title           object\n",
       "FamilySize       int64\n",
       "CabinClass      object\n",
       "dtype: object"
      ]
     },
     "execution_count": 13,
     "metadata": {},
     "output_type": "execute_result"
    }
   ],
   "source": [
    "df_train.dtypes"
   ]
  },
  {
   "cell_type": "code",
   "execution_count": 14,
   "id": "cc86ccb2-403b-4f22-be61-a6b308600ea0",
   "metadata": {},
   "outputs": [],
   "source": [
    "def data_cleanup(df):\n",
    "    # Option 1: impute missing age data by mean\n",
    "    # df['Age'] = df['Age'].fillna(df_train['Age'].mean())\n",
    "    # Option 2: impute missing age data using mean within each title group\n",
    "    df['Age'] = df.groupby('Title')['Age'].transform(lambda x: x.fillna(x.median()))\n",
    "    # Similar options for Fare\n",
    "    # df['Fare'] = df['Fare'].fillna(df_train['Fare'].median())\n",
    "    df['Fare'] = df.groupby('Pclass')['Fare'].transform(lambda x: x.fillna(x.median()))\n",
    "    if 'Cabin' in df.columns:\n",
    "        df = df.drop(columns=['Cabin'])\n",
    "    df['Embarked'] = df['Embarked'].fillna(df_train['Embarked'].mode()[0])\n",
    "    return df\n",
    "df_train = data_cleanup(df_train)\n",
    "df_test = data_cleanup(df_test)"
   ]
  },
  {
   "cell_type": "code",
   "execution_count": 15,
   "id": "1f7ed00b-d03d-43fa-999b-118996e5939c",
   "metadata": {},
   "outputs": [
    {
     "data": {
      "text/plain": [
       "0"
      ]
     },
     "execution_count": 15,
     "metadata": {},
     "output_type": "execute_result"
    }
   ],
   "source": [
    "df_train.isnull().sum().sum()"
   ]
  },
  {
   "cell_type": "code",
   "execution_count": 16,
   "id": "ad8dc6e3-20c7-4415-ae61-30a1ca3bdbcc",
   "metadata": {
    "tags": []
   },
   "outputs": [
    {
     "data": {
      "text/plain": [
       "0"
      ]
     },
     "execution_count": 16,
     "metadata": {},
     "output_type": "execute_result"
    }
   ],
   "source": [
    "df_test.isnull().sum().sum()"
   ]
  },
  {
   "cell_type": "markdown",
   "id": "62701f47-211a-4577-bd06-a5b136a55498",
   "metadata": {
    "tags": []
   },
   "source": [
    "## Create more features\n",
    "\n",
    "- Create \"FareCategory\" to group the fares\n",
    "- Create \"AgeGroup\" to group the age"
   ]
  },
  {
   "cell_type": "markdown",
   "id": "963e95f9-db92-4e98-b36b-e7a56747b29a",
   "metadata": {
    "tags": []
   },
   "source": [
    "### New feature: Fare category"
   ]
  },
  {
   "cell_type": "code",
   "execution_count": 17,
   "id": "259441f0-ac87-400c-b150-0d8d02a94e50",
   "metadata": {},
   "outputs": [
    {
     "data": {
      "text/plain": [
       "1    182\n",
       "0    156\n",
       "2     49\n",
       "4     18\n",
       "3     13\n",
       "Name: FareCategory, dtype: int64"
      ]
     },
     "execution_count": 17,
     "metadata": {},
     "output_type": "execute_result"
    }
   ],
   "source": [
    "def create_feature_fare_category(df):\n",
    "    # df['FareCategory'] = pd.cut(x=df['Fare'], bins=[0, 10, 50, 100, 200, 1000], labels=['verylow', 'low', 'medium', 'high', 'veryhigh'])\n",
    "    df['FareCategory'] = pd.cut(x=df['Fare'], bins=[-1, 10, 50, 100, 200, 1000], labels=[0, 1, 2, 3, 4])\n",
    "    df['FareCategory'] = df['FareCategory'].astype(np.int64)\n",
    "    return df\n",
    "df_train = create_feature_fare_category(df_train)\n",
    "df_test = create_feature_fare_category(df_test)\n",
    "df_test['FareCategory'].value_counts()"
   ]
  },
  {
   "cell_type": "markdown",
   "id": "8cef23fa-9d90-48a9-aafb-c3efe2010eb1",
   "metadata": {
    "tags": []
   },
   "source": [
    "### New feature: Age group"
   ]
  },
  {
   "cell_type": "code",
   "execution_count": 18,
   "id": "45934341-8348-4420-a6fa-439ba5879437",
   "metadata": {},
   "outputs": [
    {
     "data": {
      "text/plain": [
       "3    400\n",
       "2    198\n",
       "4    150\n",
       "1     77\n",
       "0     66\n",
       "Name: AgeGroup, dtype: int64"
      ]
     },
     "execution_count": 18,
     "metadata": {},
     "output_type": "execute_result"
    }
   ],
   "source": [
    "def create_feature_age_group(df):\n",
    "    # df['AgeGroup'] = pd.cut(x=df['Age'], bins=[0, 9, 18, 25, 40, 100], labels=['child', 'teen', 'young', 'adult', 'aged'])\n",
    "    df['AgeGroup'] = pd.cut(x=df['Age'], bins=[0, 9, 18, 25, 40, 100], labels=[0, 1, 2, 3, 4])\n",
    "    df['AgeGroup'] = df['AgeGroup'].astype(np.int64)\n",
    "    return df\n",
    "df_train = create_feature_age_group(df_train)\n",
    "df_test = create_feature_age_group(df_test)\n",
    "df_train['AgeGroup'].value_counts()"
   ]
  },
  {
   "cell_type": "markdown",
   "id": "0e2617b2-aa0a-44a2-b6de-281c332292d4",
   "metadata": {},
   "source": [
    "## Data Preprocessing"
   ]
  },
  {
   "cell_type": "code",
   "execution_count": 19,
   "id": "1e822002-7d59-4407-b51a-609bd2a93bf2",
   "metadata": {},
   "outputs": [
    {
     "data": {
      "text/html": [
       "<div>\n",
       "<style scoped>\n",
       "    .dataframe tbody tr th:only-of-type {\n",
       "        vertical-align: middle;\n",
       "    }\n",
       "\n",
       "    .dataframe tbody tr th {\n",
       "        vertical-align: top;\n",
       "    }\n",
       "\n",
       "    .dataframe thead th {\n",
       "        text-align: right;\n",
       "    }\n",
       "</style>\n",
       "<table border=\"1\" class=\"dataframe\">\n",
       "  <thead>\n",
       "    <tr style=\"text-align: right;\">\n",
       "      <th></th>\n",
       "      <th>PassengerId</th>\n",
       "      <th>Survived</th>\n",
       "      <th>Pclass</th>\n",
       "      <th>Name</th>\n",
       "      <th>Sex</th>\n",
       "      <th>Age</th>\n",
       "      <th>SibSp</th>\n",
       "      <th>Parch</th>\n",
       "      <th>Ticket</th>\n",
       "      <th>Fare</th>\n",
       "      <th>Embarked</th>\n",
       "      <th>Title</th>\n",
       "      <th>FamilySize</th>\n",
       "      <th>CabinClass</th>\n",
       "      <th>FareCategory</th>\n",
       "      <th>AgeGroup</th>\n",
       "    </tr>\n",
       "  </thead>\n",
       "  <tbody>\n",
       "    <tr>\n",
       "      <th>0</th>\n",
       "      <td>1</td>\n",
       "      <td>0</td>\n",
       "      <td>3</td>\n",
       "      <td>Braund, Mr. Owen Harris</td>\n",
       "      <td>male</td>\n",
       "      <td>22.0</td>\n",
       "      <td>1</td>\n",
       "      <td>0</td>\n",
       "      <td>A/5 21171</td>\n",
       "      <td>7.2500</td>\n",
       "      <td>S</td>\n",
       "      <td>Mr</td>\n",
       "      <td>1</td>\n",
       "      <td>N</td>\n",
       "      <td>0</td>\n",
       "      <td>2</td>\n",
       "    </tr>\n",
       "    <tr>\n",
       "      <th>1</th>\n",
       "      <td>2</td>\n",
       "      <td>1</td>\n",
       "      <td>1</td>\n",
       "      <td>Cumings, Mrs. John Bradley (Florence Briggs Th...</td>\n",
       "      <td>female</td>\n",
       "      <td>38.0</td>\n",
       "      <td>1</td>\n",
       "      <td>0</td>\n",
       "      <td>PC 17599</td>\n",
       "      <td>71.2833</td>\n",
       "      <td>C</td>\n",
       "      <td>Mrs</td>\n",
       "      <td>1</td>\n",
       "      <td>C</td>\n",
       "      <td>2</td>\n",
       "      <td>3</td>\n",
       "    </tr>\n",
       "    <tr>\n",
       "      <th>2</th>\n",
       "      <td>3</td>\n",
       "      <td>1</td>\n",
       "      <td>3</td>\n",
       "      <td>Heikkinen, Miss. Laina</td>\n",
       "      <td>female</td>\n",
       "      <td>26.0</td>\n",
       "      <td>0</td>\n",
       "      <td>0</td>\n",
       "      <td>STON/O2. 3101282</td>\n",
       "      <td>7.9250</td>\n",
       "      <td>S</td>\n",
       "      <td>Miss</td>\n",
       "      <td>0</td>\n",
       "      <td>N</td>\n",
       "      <td>0</td>\n",
       "      <td>3</td>\n",
       "    </tr>\n",
       "    <tr>\n",
       "      <th>3</th>\n",
       "      <td>4</td>\n",
       "      <td>1</td>\n",
       "      <td>1</td>\n",
       "      <td>Futrelle, Mrs. Jacques Heath (Lily May Peel)</td>\n",
       "      <td>female</td>\n",
       "      <td>35.0</td>\n",
       "      <td>1</td>\n",
       "      <td>0</td>\n",
       "      <td>113803</td>\n",
       "      <td>53.1000</td>\n",
       "      <td>S</td>\n",
       "      <td>Mrs</td>\n",
       "      <td>1</td>\n",
       "      <td>C</td>\n",
       "      <td>2</td>\n",
       "      <td>3</td>\n",
       "    </tr>\n",
       "    <tr>\n",
       "      <th>4</th>\n",
       "      <td>5</td>\n",
       "      <td>0</td>\n",
       "      <td>3</td>\n",
       "      <td>Allen, Mr. William Henry</td>\n",
       "      <td>male</td>\n",
       "      <td>35.0</td>\n",
       "      <td>0</td>\n",
       "      <td>0</td>\n",
       "      <td>373450</td>\n",
       "      <td>8.0500</td>\n",
       "      <td>S</td>\n",
       "      <td>Mr</td>\n",
       "      <td>0</td>\n",
       "      <td>N</td>\n",
       "      <td>0</td>\n",
       "      <td>3</td>\n",
       "    </tr>\n",
       "  </tbody>\n",
       "</table>\n",
       "</div>"
      ],
      "text/plain": [
       "   PassengerId  Survived  Pclass  \\\n",
       "0            1         0       3   \n",
       "1            2         1       1   \n",
       "2            3         1       3   \n",
       "3            4         1       1   \n",
       "4            5         0       3   \n",
       "\n",
       "                                                Name     Sex   Age  SibSp  \\\n",
       "0                            Braund, Mr. Owen Harris    male  22.0      1   \n",
       "1  Cumings, Mrs. John Bradley (Florence Briggs Th...  female  38.0      1   \n",
       "2                             Heikkinen, Miss. Laina  female  26.0      0   \n",
       "3       Futrelle, Mrs. Jacques Heath (Lily May Peel)  female  35.0      1   \n",
       "4                           Allen, Mr. William Henry    male  35.0      0   \n",
       "\n",
       "   Parch            Ticket     Fare Embarked Title  FamilySize CabinClass  \\\n",
       "0      0         A/5 21171   7.2500        S    Mr           1          N   \n",
       "1      0          PC 17599  71.2833        C   Mrs           1          C   \n",
       "2      0  STON/O2. 3101282   7.9250        S  Miss           0          N   \n",
       "3      0            113803  53.1000        S   Mrs           1          C   \n",
       "4      0            373450   8.0500        S    Mr           0          N   \n",
       "\n",
       "   FareCategory  AgeGroup  \n",
       "0             0         2  \n",
       "1             2         3  \n",
       "2             0         3  \n",
       "3             2         3  \n",
       "4             0         3  "
      ]
     },
     "execution_count": 19,
     "metadata": {},
     "output_type": "execute_result"
    }
   ],
   "source": [
    "df_train.head()"
   ]
  },
  {
   "cell_type": "code",
   "execution_count": 20,
   "id": "08180ad6-557b-4fdf-8961-35669b48bdbb",
   "metadata": {},
   "outputs": [],
   "source": [
    "df_train['Sex'] = (df_train['Sex']=='female').astype(np.int64)\n",
    "df_test['Sex'] = (df_test['Sex']=='female').astype(np.int64)"
   ]
  },
  {
   "cell_type": "code",
   "execution_count": 21,
   "id": "4349bb4e-62c4-4c8d-935e-ce2d8b9f079f",
   "metadata": {},
   "outputs": [
    {
     "data": {
      "text/html": [
       "<div>\n",
       "<style scoped>\n",
       "    .dataframe tbody tr th:only-of-type {\n",
       "        vertical-align: middle;\n",
       "    }\n",
       "\n",
       "    .dataframe tbody tr th {\n",
       "        vertical-align: top;\n",
       "    }\n",
       "\n",
       "    .dataframe thead th {\n",
       "        text-align: right;\n",
       "    }\n",
       "</style>\n",
       "<table border=\"1\" class=\"dataframe\">\n",
       "  <thead>\n",
       "    <tr style=\"text-align: right;\">\n",
       "      <th></th>\n",
       "      <th>Pclass</th>\n",
       "      <th>Sex</th>\n",
       "      <th>Age</th>\n",
       "      <th>SibSp</th>\n",
       "      <th>Parch</th>\n",
       "      <th>Fare</th>\n",
       "      <th>FamilySize</th>\n",
       "      <th>FareCategory</th>\n",
       "      <th>AgeGroup</th>\n",
       "    </tr>\n",
       "  </thead>\n",
       "  <tbody>\n",
       "    <tr>\n",
       "      <th>count</th>\n",
       "      <td>891.000000</td>\n",
       "      <td>891.000000</td>\n",
       "      <td>891.000000</td>\n",
       "      <td>891.000000</td>\n",
       "      <td>891.000000</td>\n",
       "      <td>891.000000</td>\n",
       "      <td>891.000000</td>\n",
       "      <td>891.000000</td>\n",
       "      <td>891.000000</td>\n",
       "    </tr>\n",
       "    <tr>\n",
       "      <th>mean</th>\n",
       "      <td>2.308642</td>\n",
       "      <td>0.352413</td>\n",
       "      <td>29.371684</td>\n",
       "      <td>0.523008</td>\n",
       "      <td>0.381594</td>\n",
       "      <td>32.204208</td>\n",
       "      <td>0.904602</td>\n",
       "      <td>0.884400</td>\n",
       "      <td>2.551066</td>\n",
       "    </tr>\n",
       "    <tr>\n",
       "      <th>std</th>\n",
       "      <td>0.836071</td>\n",
       "      <td>0.477990</td>\n",
       "      <td>13.252921</td>\n",
       "      <td>1.102743</td>\n",
       "      <td>0.806057</td>\n",
       "      <td>49.693429</td>\n",
       "      <td>1.613459</td>\n",
       "      <td>0.913748</td>\n",
       "      <td>1.096689</td>\n",
       "    </tr>\n",
       "    <tr>\n",
       "      <th>min</th>\n",
       "      <td>1.000000</td>\n",
       "      <td>0.000000</td>\n",
       "      <td>0.420000</td>\n",
       "      <td>0.000000</td>\n",
       "      <td>0.000000</td>\n",
       "      <td>0.000000</td>\n",
       "      <td>0.000000</td>\n",
       "      <td>0.000000</td>\n",
       "      <td>0.000000</td>\n",
       "    </tr>\n",
       "    <tr>\n",
       "      <th>25%</th>\n",
       "      <td>2.000000</td>\n",
       "      <td>0.000000</td>\n",
       "      <td>21.000000</td>\n",
       "      <td>0.000000</td>\n",
       "      <td>0.000000</td>\n",
       "      <td>7.910400</td>\n",
       "      <td>0.000000</td>\n",
       "      <td>0.000000</td>\n",
       "      <td>2.000000</td>\n",
       "    </tr>\n",
       "    <tr>\n",
       "      <th>50%</th>\n",
       "      <td>3.000000</td>\n",
       "      <td>0.000000</td>\n",
       "      <td>30.000000</td>\n",
       "      <td>0.000000</td>\n",
       "      <td>0.000000</td>\n",
       "      <td>14.454200</td>\n",
       "      <td>0.000000</td>\n",
       "      <td>1.000000</td>\n",
       "      <td>3.000000</td>\n",
       "    </tr>\n",
       "    <tr>\n",
       "      <th>75%</th>\n",
       "      <td>3.000000</td>\n",
       "      <td>1.000000</td>\n",
       "      <td>35.000000</td>\n",
       "      <td>1.000000</td>\n",
       "      <td>0.000000</td>\n",
       "      <td>31.000000</td>\n",
       "      <td>1.000000</td>\n",
       "      <td>1.000000</td>\n",
       "      <td>3.000000</td>\n",
       "    </tr>\n",
       "    <tr>\n",
       "      <th>max</th>\n",
       "      <td>3.000000</td>\n",
       "      <td>1.000000</td>\n",
       "      <td>80.000000</td>\n",
       "      <td>8.000000</td>\n",
       "      <td>6.000000</td>\n",
       "      <td>512.329200</td>\n",
       "      <td>10.000000</td>\n",
       "      <td>4.000000</td>\n",
       "      <td>4.000000</td>\n",
       "    </tr>\n",
       "  </tbody>\n",
       "</table>\n",
       "</div>"
      ],
      "text/plain": [
       "           Pclass         Sex         Age       SibSp       Parch        Fare  \\\n",
       "count  891.000000  891.000000  891.000000  891.000000  891.000000  891.000000   \n",
       "mean     2.308642    0.352413   29.371684    0.523008    0.381594   32.204208   \n",
       "std      0.836071    0.477990   13.252921    1.102743    0.806057   49.693429   \n",
       "min      1.000000    0.000000    0.420000    0.000000    0.000000    0.000000   \n",
       "25%      2.000000    0.000000   21.000000    0.000000    0.000000    7.910400   \n",
       "50%      3.000000    0.000000   30.000000    0.000000    0.000000   14.454200   \n",
       "75%      3.000000    1.000000   35.000000    1.000000    0.000000   31.000000   \n",
       "max      3.000000    1.000000   80.000000    8.000000    6.000000  512.329200   \n",
       "\n",
       "       FamilySize  FareCategory    AgeGroup  \n",
       "count  891.000000    891.000000  891.000000  \n",
       "mean     0.904602      0.884400    2.551066  \n",
       "std      1.613459      0.913748    1.096689  \n",
       "min      0.000000      0.000000    0.000000  \n",
       "25%      0.000000      0.000000    2.000000  \n",
       "50%      0.000000      1.000000    3.000000  \n",
       "75%      1.000000      1.000000    3.000000  \n",
       "max     10.000000      4.000000    4.000000  "
      ]
     },
     "execution_count": 21,
     "metadata": {},
     "output_type": "execute_result"
    }
   ],
   "source": [
    "df_train.drop(columns=['PassengerId', 'Survived']).describe()"
   ]
  },
  {
   "cell_type": "code",
   "execution_count": 22,
   "id": "28671974-6b5a-4548-8bd1-abcca0eb4589",
   "metadata": {},
   "outputs": [
    {
     "data": {
      "text/html": [
       "<div>\n",
       "<style scoped>\n",
       "    .dataframe tbody tr th:only-of-type {\n",
       "        vertical-align: middle;\n",
       "    }\n",
       "\n",
       "    .dataframe tbody tr th {\n",
       "        vertical-align: top;\n",
       "    }\n",
       "\n",
       "    .dataframe thead th {\n",
       "        text-align: right;\n",
       "    }\n",
       "</style>\n",
       "<table border=\"1\" class=\"dataframe\">\n",
       "  <thead>\n",
       "    <tr style=\"text-align: right;\">\n",
       "      <th></th>\n",
       "      <th>Pclass</th>\n",
       "      <th>Sex</th>\n",
       "      <th>Age</th>\n",
       "      <th>SibSp</th>\n",
       "      <th>Parch</th>\n",
       "      <th>Fare</th>\n",
       "      <th>FamilySize</th>\n",
       "      <th>FareCategory</th>\n",
       "      <th>AgeGroup</th>\n",
       "    </tr>\n",
       "  </thead>\n",
       "  <tbody>\n",
       "    <tr>\n",
       "      <th>count</th>\n",
       "      <td>418.000000</td>\n",
       "      <td>418.000000</td>\n",
       "      <td>418.000000</td>\n",
       "      <td>418.000000</td>\n",
       "      <td>418.000000</td>\n",
       "      <td>418.000000</td>\n",
       "      <td>418.000000</td>\n",
       "      <td>418.000000</td>\n",
       "      <td>418.000000</td>\n",
       "    </tr>\n",
       "    <tr>\n",
       "      <th>mean</th>\n",
       "      <td>2.265550</td>\n",
       "      <td>0.363636</td>\n",
       "      <td>29.740431</td>\n",
       "      <td>0.447368</td>\n",
       "      <td>0.392344</td>\n",
       "      <td>35.560845</td>\n",
       "      <td>0.839713</td>\n",
       "      <td>0.935407</td>\n",
       "      <td>2.602871</td>\n",
       "    </tr>\n",
       "    <tr>\n",
       "      <th>std</th>\n",
       "      <td>0.841838</td>\n",
       "      <td>0.481622</td>\n",
       "      <td>12.973485</td>\n",
       "      <td>0.896760</td>\n",
       "      <td>0.981429</td>\n",
       "      <td>55.856972</td>\n",
       "      <td>1.519072</td>\n",
       "      <td>1.000307</td>\n",
       "      <td>1.057208</td>\n",
       "    </tr>\n",
       "    <tr>\n",
       "      <th>min</th>\n",
       "      <td>1.000000</td>\n",
       "      <td>0.000000</td>\n",
       "      <td>0.170000</td>\n",
       "      <td>0.000000</td>\n",
       "      <td>0.000000</td>\n",
       "      <td>0.000000</td>\n",
       "      <td>0.000000</td>\n",
       "      <td>0.000000</td>\n",
       "      <td>0.000000</td>\n",
       "    </tr>\n",
       "    <tr>\n",
       "      <th>25%</th>\n",
       "      <td>1.000000</td>\n",
       "      <td>0.000000</td>\n",
       "      <td>22.000000</td>\n",
       "      <td>0.000000</td>\n",
       "      <td>0.000000</td>\n",
       "      <td>7.895800</td>\n",
       "      <td>0.000000</td>\n",
       "      <td>0.000000</td>\n",
       "      <td>2.000000</td>\n",
       "    </tr>\n",
       "    <tr>\n",
       "      <th>50%</th>\n",
       "      <td>3.000000</td>\n",
       "      <td>0.000000</td>\n",
       "      <td>29.000000</td>\n",
       "      <td>0.000000</td>\n",
       "      <td>0.000000</td>\n",
       "      <td>14.454200</td>\n",
       "      <td>0.000000</td>\n",
       "      <td>1.000000</td>\n",
       "      <td>3.000000</td>\n",
       "    </tr>\n",
       "    <tr>\n",
       "      <th>75%</th>\n",
       "      <td>3.000000</td>\n",
       "      <td>1.000000</td>\n",
       "      <td>36.875000</td>\n",
       "      <td>1.000000</td>\n",
       "      <td>0.000000</td>\n",
       "      <td>31.471875</td>\n",
       "      <td>1.000000</td>\n",
       "      <td>1.000000</td>\n",
       "      <td>3.000000</td>\n",
       "    </tr>\n",
       "    <tr>\n",
       "      <th>max</th>\n",
       "      <td>3.000000</td>\n",
       "      <td>1.000000</td>\n",
       "      <td>76.000000</td>\n",
       "      <td>8.000000</td>\n",
       "      <td>9.000000</td>\n",
       "      <td>512.329200</td>\n",
       "      <td>10.000000</td>\n",
       "      <td>4.000000</td>\n",
       "      <td>4.000000</td>\n",
       "    </tr>\n",
       "  </tbody>\n",
       "</table>\n",
       "</div>"
      ],
      "text/plain": [
       "           Pclass         Sex         Age       SibSp       Parch        Fare  \\\n",
       "count  418.000000  418.000000  418.000000  418.000000  418.000000  418.000000   \n",
       "mean     2.265550    0.363636   29.740431    0.447368    0.392344   35.560845   \n",
       "std      0.841838    0.481622   12.973485    0.896760    0.981429   55.856972   \n",
       "min      1.000000    0.000000    0.170000    0.000000    0.000000    0.000000   \n",
       "25%      1.000000    0.000000   22.000000    0.000000    0.000000    7.895800   \n",
       "50%      3.000000    0.000000   29.000000    0.000000    0.000000   14.454200   \n",
       "75%      3.000000    1.000000   36.875000    1.000000    0.000000   31.471875   \n",
       "max      3.000000    1.000000   76.000000    8.000000    9.000000  512.329200   \n",
       "\n",
       "       FamilySize  FareCategory    AgeGroup  \n",
       "count  418.000000    418.000000  418.000000  \n",
       "mean     0.839713      0.935407    2.602871  \n",
       "std      1.519072      1.000307    1.057208  \n",
       "min      0.000000      0.000000    0.000000  \n",
       "25%      0.000000      0.000000    2.000000  \n",
       "50%      0.000000      1.000000    3.000000  \n",
       "75%      1.000000      1.000000    3.000000  \n",
       "max     10.000000      4.000000    4.000000  "
      ]
     },
     "execution_count": 22,
     "metadata": {},
     "output_type": "execute_result"
    }
   ],
   "source": [
    "df_test.drop(columns=['PassengerId']).describe()"
   ]
  },
  {
   "cell_type": "markdown",
   "id": "d59af7b3-c002-44af-90a5-a893e6890a34",
   "metadata": {},
   "source": [
    "**[Observation]** The numeric data between train and test are similarly distributed."
   ]
  },
  {
   "cell_type": "code",
   "execution_count": 23,
   "id": "993a087c-a6d1-46d4-95a0-237b1999d7e1",
   "metadata": {},
   "outputs": [
    {
     "data": {
      "image/png": "[encoded data removed]",
      "text/plain": [
       "<Figure size 720x504 with 9 Axes>"
      ]
     },
     "metadata": {
      "needs_background": "light"
     },
     "output_type": "display_data"
    }
   ],
   "source": [
    "fig = df_train.drop(columns=['PassengerId', 'Survived']).hist(figsize=(10, 7))"
   ]
  },
  {
   "cell_type": "code",
   "execution_count": 24,
   "id": "041d9d2e-4f7d-4d7f-a8d7-f7d959bfa492",
   "metadata": {},
   "outputs": [
    {
     "data": {
      "image/png": "[encoded data removed]",
      "text/plain": [
       "<Figure size 720x504 with 9 Axes>"
      ]
     },
     "metadata": {
      "needs_background": "light"
     },
     "output_type": "display_data"
    }
   ],
   "source": [
    "fig = df_test.drop(columns=['PassengerId']).hist(figsize=(10, 7))"
   ]
  },
  {
   "cell_type": "markdown",
   "id": "08d3d07c-459d-4594-8f47-c360bda26934",
   "metadata": {},
   "source": [
    "**[Observation]** SibSp, Parch, Fare, FamilySize are non-uniformly distributed => preprocess using log or grouping"
   ]
  },
  {
   "cell_type": "code",
   "execution_count": 25,
   "id": "03db1fd8-bfd9-4b8d-9e3a-ff1bf397396d",
   "metadata": {},
   "outputs": [],
   "source": [
    "def preprocess_data(df):\n",
    "    log_feats = ['FamilySize', 'Fare']\n",
    "    for f in log_feats:\n",
    "        df[f + '_log'] = np.log2(1 + df[f])\n",
    "    df['Age'] = df['Age'] / 50\n",
    "    return df\n",
    "df_train = preprocess_data(df_train)\n",
    "df_test = preprocess_data(df_test)"
   ]
  },
  {
   "cell_type": "code",
   "execution_count": 26,
   "id": "5b5bd740-f382-4359-9188-898cc55cfc6a",
   "metadata": {},
   "outputs": [
    {
     "data": {
      "image/png": "[encoded data removed]",
      "text/plain": [
       "<Figure size 720x720 with 12 Axes>"
      ]
     },
     "metadata": {
      "needs_background": "light"
     },
     "output_type": "display_data"
    }
   ],
   "source": [
    "fig = df_train.drop(columns=['PassengerId', 'Survived']).hist(figsize=(10, 10))"
   ]
  },
  {
   "cell_type": "code",
   "execution_count": 27,
   "id": "5b4a102b-fe0c-4dc5-8ef2-550cd66523b1",
   "metadata": {},
   "outputs": [
    {
     "data": {
      "image/png": "[encoded data removed]",
      "text/plain": [
       "<Figure size 720x720 with 12 Axes>"
      ]
     },
     "metadata": {
      "needs_background": "light"
     },
     "output_type": "display_data"
    }
   ],
   "source": [
    "fig = df_test.drop(columns=['PassengerId']).hist(figsize=(10, 10))"
   ]
  },
  {
   "cell_type": "code",
   "execution_count": 28,
   "id": "861c8da5-690d-4c5c-85e4-b0eb6c0b8796",
   "metadata": {},
   "outputs": [
    {
     "data": {
      "text/html": [
       "<div>\n",
       "<style scoped>\n",
       "    .dataframe tbody tr th:only-of-type {\n",
       "        vertical-align: middle;\n",
       "    }\n",
       "\n",
       "    .dataframe tbody tr th {\n",
       "        vertical-align: top;\n",
       "    }\n",
       "\n",
       "    .dataframe thead th {\n",
       "        text-align: right;\n",
       "    }\n",
       "</style>\n",
       "<table border=\"1\" class=\"dataframe\">\n",
       "  <thead>\n",
       "    <tr style=\"text-align: right;\">\n",
       "      <th></th>\n",
       "      <th>PassengerId</th>\n",
       "      <th>Survived</th>\n",
       "      <th>Pclass</th>\n",
       "      <th>Name</th>\n",
       "      <th>Sex</th>\n",
       "      <th>Age</th>\n",
       "      <th>SibSp</th>\n",
       "      <th>Parch</th>\n",
       "      <th>Ticket</th>\n",
       "      <th>Fare</th>\n",
       "      <th>Embarked</th>\n",
       "      <th>Title</th>\n",
       "      <th>FamilySize</th>\n",
       "      <th>CabinClass</th>\n",
       "      <th>FareCategory</th>\n",
       "      <th>AgeGroup</th>\n",
       "      <th>FamilySize_log</th>\n",
       "      <th>Fare_log</th>\n",
       "    </tr>\n",
       "  </thead>\n",
       "  <tbody>\n",
       "    <tr>\n",
       "      <th>0</th>\n",
       "      <td>1</td>\n",
       "      <td>0</td>\n",
       "      <td>3</td>\n",
       "      <td>Braund, Mr. Owen Harris</td>\n",
       "      <td>0</td>\n",
       "      <td>0.44</td>\n",
       "      <td>1</td>\n",
       "      <td>0</td>\n",
       "      <td>A/5 21171</td>\n",
       "      <td>7.2500</td>\n",
       "      <td>S</td>\n",
       "      <td>Mr</td>\n",
       "      <td>1</td>\n",
       "      <td>N</td>\n",
       "      <td>0</td>\n",
       "      <td>2</td>\n",
       "      <td>1.0</td>\n",
       "      <td>3.044394</td>\n",
       "    </tr>\n",
       "    <tr>\n",
       "      <th>1</th>\n",
       "      <td>2</td>\n",
       "      <td>1</td>\n",
       "      <td>1</td>\n",
       "      <td>Cumings, Mrs. John Bradley (Florence Briggs Th...</td>\n",
       "      <td>1</td>\n",
       "      <td>0.76</td>\n",
       "      <td>1</td>\n",
       "      <td>0</td>\n",
       "      <td>PC 17599</td>\n",
       "      <td>71.2833</td>\n",
       "      <td>C</td>\n",
       "      <td>Mrs</td>\n",
       "      <td>1</td>\n",
       "      <td>C</td>\n",
       "      <td>2</td>\n",
       "      <td>3</td>\n",
       "      <td>1.0</td>\n",
       "      <td>6.175590</td>\n",
       "    </tr>\n",
       "    <tr>\n",
       "      <th>2</th>\n",
       "      <td>3</td>\n",
       "      <td>1</td>\n",
       "      <td>3</td>\n",
       "      <td>Heikkinen, Miss. Laina</td>\n",
       "      <td>1</td>\n",
       "      <td>0.52</td>\n",
       "      <td>0</td>\n",
       "      <td>0</td>\n",
       "      <td>STON/O2. 3101282</td>\n",
       "      <td>7.9250</td>\n",
       "      <td>S</td>\n",
       "      <td>Miss</td>\n",
       "      <td>0</td>\n",
       "      <td>N</td>\n",
       "      <td>0</td>\n",
       "      <td>3</td>\n",
       "      <td>0.0</td>\n",
       "      <td>3.157852</td>\n",
       "    </tr>\n",
       "    <tr>\n",
       "      <th>3</th>\n",
       "      <td>4</td>\n",
       "      <td>1</td>\n",
       "      <td>1</td>\n",
       "      <td>Futrelle, Mrs. Jacques Heath (Lily May Peel)</td>\n",
       "      <td>1</td>\n",
       "      <td>0.70</td>\n",
       "      <td>1</td>\n",
       "      <td>0</td>\n",
       "      <td>113803</td>\n",
       "      <td>53.1000</td>\n",
       "      <td>S</td>\n",
       "      <td>Mrs</td>\n",
       "      <td>1</td>\n",
       "      <td>C</td>\n",
       "      <td>2</td>\n",
       "      <td>3</td>\n",
       "      <td>1.0</td>\n",
       "      <td>5.757557</td>\n",
       "    </tr>\n",
       "    <tr>\n",
       "      <th>4</th>\n",
       "      <td>5</td>\n",
       "      <td>0</td>\n",
       "      <td>3</td>\n",
       "      <td>Allen, Mr. William Henry</td>\n",
       "      <td>0</td>\n",
       "      <td>0.70</td>\n",
       "      <td>0</td>\n",
       "      <td>0</td>\n",
       "      <td>373450</td>\n",
       "      <td>8.0500</td>\n",
       "      <td>S</td>\n",
       "      <td>Mr</td>\n",
       "      <td>0</td>\n",
       "      <td>N</td>\n",
       "      <td>0</td>\n",
       "      <td>3</td>\n",
       "      <td>0.0</td>\n",
       "      <td>3.177918</td>\n",
       "    </tr>\n",
       "  </tbody>\n",
       "</table>\n",
       "</div>"
      ],
      "text/plain": [
       "   PassengerId  Survived  Pclass  \\\n",
       "0            1         0       3   \n",
       "1            2         1       1   \n",
       "2            3         1       3   \n",
       "3            4         1       1   \n",
       "4            5         0       3   \n",
       "\n",
       "                                                Name  Sex   Age  SibSp  Parch  \\\n",
       "0                            Braund, Mr. Owen Harris    0  0.44      1      0   \n",
       "1  Cumings, Mrs. John Bradley (Florence Briggs Th...    1  0.76      1      0   \n",
       "2                             Heikkinen, Miss. Laina    1  0.52      0      0   \n",
       "3       Futrelle, Mrs. Jacques Heath (Lily May Peel)    1  0.70      1      0   \n",
       "4                           Allen, Mr. William Henry    0  0.70      0      0   \n",
       "\n",
       "             Ticket     Fare Embarked Title  FamilySize CabinClass  \\\n",
       "0         A/5 21171   7.2500        S    Mr           1          N   \n",
       "1          PC 17599  71.2833        C   Mrs           1          C   \n",
       "2  STON/O2. 3101282   7.9250        S  Miss           0          N   \n",
       "3            113803  53.1000        S   Mrs           1          C   \n",
       "4            373450   8.0500        S    Mr           0          N   \n",
       "\n",
       "   FareCategory  AgeGroup  FamilySize_log  Fare_log  \n",
       "0             0         2             1.0  3.044394  \n",
       "1             2         3             1.0  6.175590  \n",
       "2             0         3             0.0  3.157852  \n",
       "3             2         3             1.0  5.757557  \n",
       "4             0         3             0.0  3.177918  "
      ]
     },
     "execution_count": 28,
     "metadata": {},
     "output_type": "execute_result"
    }
   ],
   "source": [
    "df_train.head()"
   ]
  },
  {
   "cell_type": "markdown",
   "id": "404ae46a-b411-48bb-bb77-6887595923a1",
   "metadata": {},
   "source": [
    "## Feature selection"
   ]
  },
  {
   "cell_type": "code",
   "execution_count": 29,
   "id": "e8b1558e-9616-4afc-a368-b8a5fda303f9",
   "metadata": {},
   "outputs": [
    {
     "data": {
      "text/plain": [
       "Index(['PassengerId', 'Survived', 'Pclass', 'Name', 'Sex', 'Age', 'SibSp',\n",
       "       'Parch', 'Ticket', 'Fare', 'Embarked', 'Title', 'FamilySize',\n",
       "       'CabinClass', 'FareCategory', 'AgeGroup', 'FamilySize_log', 'Fare_log'],\n",
       "      dtype='object')"
      ]
     },
     "execution_count": 29,
     "metadata": {},
     "output_type": "execute_result"
    }
   ],
   "source": [
    "df_train.columns"
   ]
  },
  {
   "cell_type": "code",
   "execution_count": 30,
   "id": "b1666bf2-e35e-40e0-93c4-23febe445756",
   "metadata": {},
   "outputs": [],
   "source": [
    "# Drop features\n",
    "# drop_feats = ['SibSp', 'Parch', 'Fare', 'FamilySize', 'CabinClass', 'Name', 'Ticket']\n",
    "drop_feats = ['Name', 'Age', 'Ticket', 'Fare', 'CabinClass', 'FamilySize_log', 'Fare_log']\n",
    "df_train = df_train.drop(columns=drop_feats)\n",
    "df_test = df_test.drop(columns=drop_feats)"
   ]
  },
  {
   "cell_type": "code",
   "execution_count": 31,
   "id": "aa7c0979-e410-41c0-9ccd-f2c2d70ecb8e",
   "metadata": {},
   "outputs": [
    {
     "data": {
      "text/plain": [
       "{'int64': ['Pclass', 'Sex', 'SibSp', 'Parch', 'FamilySize', 'FareCategory', 'AgeGroup'], 'object': ['Embarked', 'Title']}"
      ]
     },
     "execution_count": 31,
     "metadata": {},
     "output_type": "execute_result"
    }
   ],
   "source": [
    "col_groups = df_train.drop(columns=['PassengerId' , 'Survived'], axis=1).columns.to_series().groupby(df_train.dtypes.astype(str)).groups\n",
    "col_groups"
   ]
  },
  {
   "cell_type": "code",
   "execution_count": 32,
   "id": "ee3ed17b-0a6d-4de8-8ae9-c7c8337dcf29",
   "metadata": {},
   "outputs": [
    {
     "data": {
      "text/plain": [
       "OneHotEncoder()"
      ]
     },
     "execution_count": 32,
     "metadata": {},
     "output_type": "execute_result"
    }
   ],
   "source": [
    "from sklearn.preprocessing import OneHotEncoder\n",
    "ohe = OneHotEncoder()\n",
    "features_objects = df_train[col_groups['object']].values\n",
    "ohe.fit(features_objects)"
   ]
  },
  {
   "cell_type": "code",
   "execution_count": 33,
   "id": "6a651c21-cb84-4e95-9c70-c51585b547cb",
   "metadata": {},
   "outputs": [],
   "source": [
    "def prepare_data(df):\n",
    "    # features_numeric = df[[*col_groups['int64'], *col_groups['float64']]].values\n",
    "    features_numeric = df[[*col_groups['int64']]].values\n",
    "    features_objects = df[[*col_groups['object']]].values\n",
    "    features_ohe = ohe.transform(features_objects).toarray()\n",
    "    features = np.concatenate((features_numeric, features_ohe), axis=1)\n",
    "    # feature_names = [*col_groups['int64'], *col_groups['float64'], \n",
    "    #                  *ohe.get_feature_names([*col_groups['object']]).tolist()]\n",
    "    feature_names = [*col_groups['int64'], \n",
    "                     *ohe.get_feature_names([*col_groups['object']]).tolist()]\n",
    "    return features, feature_names"
   ]
  },
  {
   "cell_type": "code",
   "execution_count": 34,
   "id": "66ffb75a-df46-424a-bbe6-fa34f5780d28",
   "metadata": {},
   "outputs": [],
   "source": [
    "features, feature_names = prepare_data(df_train)"
   ]
  },
  {
   "cell_type": "code",
   "execution_count": 35,
   "id": "9d4da7dd-d36b-4524-a499-0c57da0bb903",
   "metadata": {},
   "outputs": [
    {
     "data": {
      "text/plain": [
       "['Pclass',\n",
       " 'Sex',\n",
       " 'SibSp',\n",
       " 'Parch',\n",
       " 'FamilySize',\n",
       " 'FareCategory',\n",
       " 'AgeGroup',\n",
       " 'Embarked_C',\n",
       " 'Embarked_Q',\n",
       " 'Embarked_S',\n",
       " 'Title_Master',\n",
       " 'Title_Miss',\n",
       " 'Title_Mr',\n",
       " 'Title_Mrs']"
      ]
     },
     "execution_count": 35,
     "metadata": {},
     "output_type": "execute_result"
    }
   ],
   "source": [
    "feature_names"
   ]
  },
  {
   "cell_type": "code",
   "execution_count": 36,
   "id": "7ca9ba95-f120-4766-8975-0ad60c69d415",
   "metadata": {},
   "outputs": [
    {
     "data": {
      "text/plain": [
       "(891,)"
      ]
     },
     "execution_count": 36,
     "metadata": {},
     "output_type": "execute_result"
    }
   ],
   "source": [
    "targets = df_train['Survived'].values\n",
    "targets.shape"
   ]
  },
  {
   "cell_type": "code",
   "execution_count": 37,
   "id": "240edcbd-2c98-4f18-a145-9cedf38cd2b7",
   "metadata": {},
   "outputs": [
    {
     "data": {
      "image/png": "[encoded data removed]",
      "text/plain": [
       "<Figure size 864x864 with 2 Axes>"
      ]
     },
     "metadata": {
      "needs_background": "light"
     },
     "output_type": "display_data"
    }
   ],
   "source": [
    "df_features = pd.DataFrame(np.concatenate((features, np.expand_dims(targets, axis=1)), axis=1), \n",
    "                           columns=[*feature_names, 'Survived'])\n",
    "corr = df_features.corr()\n",
    "plt.figure(figsize=(12, 12))\n",
    "ax = sns.heatmap(corr, vmin=-1, vmax=1, center=0,cmap=sns.diverging_palette(20, 220, n=200), square=True)\n",
    "ax.set_xticklabels(ax.get_xticklabels(), rotation=45, horizontalalignment='right');"
   ]
  },
  {
   "cell_type": "code",
   "execution_count": 38,
   "id": "d6768e4e-9365-4d7b-8729-dfd4c4613054",
   "metadata": {},
   "outputs": [],
   "source": [
    "features_submission, _ = prepare_data(df_test)"
   ]
  },
  {
   "cell_type": "code",
   "execution_count": 39,
   "id": "0875291e-c536-49f0-95e5-5e800fef2f95",
   "metadata": {},
   "outputs": [
    {
     "data": {
      "image/png": "[encoded data removed]",
      "text/plain": [
       "<Figure size 864x864 with 2 Axes>"
      ]
     },
     "metadata": {
      "needs_background": "light"
     },
     "output_type": "display_data"
    }
   ],
   "source": [
    "df_features = pd.DataFrame(features_submission, columns=feature_names)\n",
    "corr = df_features.corr()\n",
    "plt.figure(figsize=(12, 12))\n",
    "ax = sns.heatmap(corr, vmin=-1, vmax=1, center=0,cmap=sns.diverging_palette(20, 220, n=200), square=True)\n",
    "ax.set_xticklabels(ax.get_xticklabels(), rotation=45, horizontalalignment='right');"
   ]
  },
  {
   "cell_type": "code",
   "execution_count": 40,
   "id": "b2551789-3a13-4d18-a773-b0e476b07642",
   "metadata": {},
   "outputs": [],
   "source": [
    "def prepare_submission(preds):\n",
    "    submission_data = r'titanic/gender_submission.csv'\n",
    "    df_sub = pd.read_csv(submission_data, header = 0)\n",
    "    df_sub['Survived'].update(pd.Series(preds))\n",
    "    return df_sub"
   ]
  },
  {
   "cell_type": "markdown",
   "id": "b6e555b1-9e92-44a3-b924-2687ea977548",
   "metadata": {
    "tags": []
   },
   "source": [
    "# Model training"
   ]
  },
  {
   "cell_type": "code",
   "execution_count": 41,
   "id": "7ae9166d-2f33-4524-bf08-d6fdad42dae6",
   "metadata": {},
   "outputs": [],
   "source": [
    "import shap"
   ]
  },
  {
   "cell_type": "code",
   "execution_count": 42,
   "id": "7d5bbeaf-4d9d-48c8-9e8c-c3eabe49e894",
   "metadata": {},
   "outputs": [],
   "source": [
    "def evaluate(y_test, preds):\n",
    "    from sklearn.metrics import precision_score, recall_score, accuracy_score\n",
    "    print(\"Precision = {}\".format(precision_score(y_test, preds, average='macro')))\n",
    "    print(\"Recall = {}\".format(recall_score(y_test, preds, average='macro')))\n",
    "    print(\"Accuracy = {}\".format(accuracy_score(y_test, preds)))"
   ]
  },
  {
   "cell_type": "markdown",
   "id": "ed162abf-6554-4737-8bf7-c70f61d478cc",
   "metadata": {},
   "source": [
    "## Partition Data"
   ]
  },
  {
   "cell_type": "code",
   "execution_count": 43,
   "id": "4404a95b-9488-4e05-93b3-effe42dc8d05",
   "metadata": {
    "tags": []
   },
   "outputs": [],
   "source": [
    "from sklearn.model_selection import train_test_split"
   ]
  },
  {
   "cell_type": "code",
   "execution_count": 44,
   "id": "66f155b4-52f3-4fbc-957c-2a482823d7e0",
   "metadata": {},
   "outputs": [],
   "source": [
    "X_train,X_test,y_train,y_test = train_test_split(features, targets, test_size=0.2, random_state=88)"
   ]
  },
  {
   "cell_type": "code",
   "execution_count": 45,
   "id": "91d16ca0-acd8-46eb-8f32-113493f1620c",
   "metadata": {
    "tags": []
   },
   "outputs": [
    {
     "name": "stdout",
     "output_type": "stream",
     "text": [
      "(712, 14) 280\n",
      "(179, 14) 62\n"
     ]
    }
   ],
   "source": [
    "print(X_train.shape, y_train.sum())\n",
    "print(X_test.shape, y_test.sum())"
   ]
  },
  {
   "cell_type": "markdown",
   "id": "feeb5230-03e3-40bb-9025-3783205b36ce",
   "metadata": {},
   "source": [
    "## Data Normalization"
   ]
  },
  {
   "cell_type": "code",
   "execution_count": 46,
   "id": "963f74d9-50b1-4e39-ad06-39e0b7bba3ba",
   "metadata": {},
   "outputs": [],
   "source": [
    "from sklearn.preprocessing import StandardScaler, MinMaxScaler"
   ]
  },
  {
   "cell_type": "code",
   "execution_count": 47,
   "id": "c3b519d5-67b2-4e27-b1ac-e85ccd2e8e74",
   "metadata": {},
   "outputs": [],
   "source": [
    "scaler = StandardScaler()\n",
    "scaler.fit(features)\n",
    "X_train_normed = scaler.transform(X_train)\n",
    "X_test_normed = scaler.transform(X_test)\n",
    "features_submission_normed = scaler.transform(features_submission)"
   ]
  },
  {
   "cell_type": "code",
   "execution_count": 62,
   "id": "89b48ad0-a08c-4371-a467-d7c953ed75ac",
   "metadata": {},
   "outputs": [],
   "source": [
    "scaler = MinMaxScaler()\n",
    "scaler.fit(features)\n",
    "X_train_minmax = scaler.transform(X_train)\n",
    "X_test_minmax = scaler.transform(X_test)\n",
    "features_submission_minmax = scaler.transform(features_submission)"
   ]
  },
  {
   "cell_type": "markdown",
   "id": "a2b593b7-f646-45b0-ae87-eed8a5fe57de",
   "metadata": {},
   "source": [
    "## Support Vector Classification"
   ]
  },
  {
   "cell_type": "code",
   "execution_count": 63,
   "id": "0a87e957-d5d2-4b09-9e17-4c92ee23ccbb",
   "metadata": {},
   "outputs": [],
   "source": [
    "from sklearn.svm import SVC"
   ]
  },
  {
   "cell_type": "code",
   "execution_count": 64,
   "id": "7df628a3-2347-4eb9-8eb5-73ca26f70a58",
   "metadata": {},
   "outputs": [],
   "source": [
    "svc = SVC(kernel='linear')"
   ]
  },
  {
   "cell_type": "code",
   "execution_count": 65,
   "id": "e3644b27-6463-493e-b789-f68ffbb21c41",
   "metadata": {},
   "outputs": [],
   "source": [
    "from sklearn.decomposition import PCA, KernelPCA \n",
    "pca = PCA(n_components=13)\n",
    "pca.fit(X_train_normed)\n",
    "X_train_svc = pca.transform(X_train_normed) \n",
    "X_test_svc = pca.transform(X_test_normed) \n",
    "features_submission_svc = pca.transform(features_submission_normed) "
   ]
  },
  {
   "cell_type": "code",
   "execution_count": 66,
   "id": "70d28ca0-9703-41c1-a59e-66574713a9c1",
   "metadata": {},
   "outputs": [
    {
     "data": {
      "text/plain": [
       "SVC(kernel='linear')"
      ]
     },
     "execution_count": 66,
     "metadata": {},
     "output_type": "execute_result"
    }
   ],
   "source": [
    "svc.fit(X_train_svc, y_train)"
   ]
  },
  {
   "cell_type": "code",
   "execution_count": 67,
   "id": "4cc39eff-89f5-4731-be36-82a8d6cf86e8",
   "metadata": {},
   "outputs": [
    {
     "name": "stdout",
     "output_type": "stream",
     "text": [
      "Precision = 0.8250647109577222\n",
      "Recall = 0.8116211745244004\n",
      "Accuracy = 0.8379888268156425\n"
     ]
    }
   ],
   "source": [
    "preds = svc.predict(X_test_svc)\n",
    "evaluate(y_test, preds)"
   ]
  },
  {
   "cell_type": "code",
   "execution_count": 69,
   "id": "cd7a94cd-5b7e-4063-a411-b8a32e7c848a",
   "metadata": {},
   "outputs": [],
   "source": [
    "preds = svc.predict(features_submission_svc)\n",
    "df_sub = prepare_submission(preds)\n",
    "df_sub.to_csv('titanic/submission_svc.csv', index=False)"
   ]
  },
  {
   "cell_type": "markdown",
   "id": "350d516b-094a-4406-a048-6e9d6009bfb0",
   "metadata": {},
   "source": [
    "## KNN"
   ]
  },
  {
   "cell_type": "code",
   "execution_count": 70,
   "id": "9b7fbf31-f090-4b5b-9fe8-c7eb7a6d78a3",
   "metadata": {},
   "outputs": [
    {
     "name": "stdout",
     "output_type": "stream",
     "text": [
      "2\n",
      "4\n",
      "5\n",
      "10\n",
      "15\n",
      "20\n",
      "25\n"
     ]
    }
   ],
   "source": [
    "#  create a classifier using k-Nearest Neighbors algorithm.\n",
    "from sklearn.neighbors import KNeighborsClassifier\n",
    "\n",
    "#Setup arrays to store training and test accuracies\n",
    "# neighbors = np.arange(1,15)\n",
    "# neighbors = [5, 10, 15, 20, 25]\n",
    "neighbors = [2, 4, 5, 10, 15, 20, 25]\n",
    "train_accuracy =np.empty(len(neighbors))\n",
    "test_accuracy = np.empty(len(neighbors))\n",
    "\n",
    "for i,k in enumerate(neighbors):\n",
    "    print(k)\n",
    "    \n",
    "    #Setup a knn classifier with k neighbors\n",
    "    knn = KNeighborsClassifier(n_neighbors=k)\n",
    "    \n",
    "    #Fit the model\n",
    "    knn.fit(X_train, y_train)\n",
    "    \n",
    "    #Compute accuracy on the training set\n",
    "    train_accuracy[i] = knn.score(X_train, y_train)\n",
    "    \n",
    "    #Compute accuracy on the test set\n",
    "    test_accuracy[i] = knn.score(X_test, y_test) "
   ]
  },
  {
   "cell_type": "code",
   "execution_count": 71,
   "id": "58639f58-c6e7-4e34-a2c2-23b8e8511f5a",
   "metadata": {},
   "outputs": [
    {
     "data": {
      "image/png": "[encoded data removed]",
      "text/plain": [
       "<Figure size 432x288 with 1 Axes>"
      ]
     },
     "metadata": {
      "needs_background": "light"
     },
     "output_type": "display_data"
    }
   ],
   "source": [
    "#Generate plot\n",
    "plt.title('KNN Varying number of neighbors')\n",
    "plt.plot(neighbors, test_accuracy, label='Testing Accuracy')\n",
    "plt.plot(neighbors, train_accuracy, label='Training accuracy')\n",
    "plt.legend()\n",
    "plt.xlabel('Number of neighbors')\n",
    "plt.ylabel('Accuracy')\n",
    "plt.show()"
   ]
  },
  {
   "cell_type": "code",
   "execution_count": 72,
   "id": "9cf3dd13-1ac1-450d-816e-082226dbc96d",
   "metadata": {},
   "outputs": [],
   "source": [
    "knn = KNeighborsClassifier(n_neighbors=10)"
   ]
  },
  {
   "cell_type": "code",
   "execution_count": 73,
   "id": "fa7ed827-c408-4e71-aca0-ddb48aaba293",
   "metadata": {},
   "outputs": [
    {
     "data": {
      "text/plain": [
       "KNeighborsClassifier(n_neighbors=10)"
      ]
     },
     "execution_count": 73,
     "metadata": {},
     "output_type": "execute_result"
    }
   ],
   "source": [
    "knn.fit(X_train,y_train)"
   ]
  },
  {
   "cell_type": "code",
   "execution_count": 74,
   "id": "17bc39de-b7e7-4928-a087-f891e5d23107",
   "metadata": {},
   "outputs": [
    {
     "name": "stdout",
     "output_type": "stream",
     "text": [
      "Precision = 0.8250647109577222\n",
      "Recall = 0.8116211745244004\n",
      "Accuracy = 0.8379888268156425\n"
     ]
    }
   ],
   "source": [
    "preds = knn.predict(X_test)\n",
    "evaluate(y_test, preds)"
   ]
  },
  {
   "cell_type": "code",
   "execution_count": 75,
   "id": "1f3b8d2f-1e47-46a8-bd27-2345fe413591",
   "metadata": {},
   "outputs": [],
   "source": [
    "preds = knn.predict(features_submission)\n",
    "df_sub = prepare_submission(preds)\n",
    "df_sub.to_csv('titanic/submission_knn.csv', index=False)"
   ]
  },
  {
   "cell_type": "markdown",
   "id": "204212d7-7ffb-404f-a8d5-43d3ba1daf2b",
   "metadata": {
    "tags": []
   },
   "source": [
    "## Random Forest Classification"
   ]
  },
  {
   "cell_type": "code",
   "execution_count": 76,
   "id": "434820aa-5420-4596-9fa5-49087cff110d",
   "metadata": {
    "tags": []
   },
   "outputs": [],
   "source": [
    "from sklearn.ensemble import RandomForestClassifier"
   ]
  },
  {
   "cell_type": "code",
   "execution_count": 77,
   "id": "847dd71c-6a6f-41fc-ac1d-5a4efce2f6a3",
   "metadata": {
    "tags": []
   },
   "outputs": [
    {
     "data": {
      "text/plain": [
       "RandomForestClassifier()"
      ]
     },
     "execution_count": 77,
     "metadata": {},
     "output_type": "execute_result"
    }
   ],
   "source": [
    "rfc = RandomForestClassifier()\n",
    "rfc.fit(X_train, y_train)"
   ]
  },
  {
   "cell_type": "code",
   "execution_count": 78,
   "id": "b51f73be-46e5-420c-93fa-db9914abbcbd",
   "metadata": {},
   "outputs": [
    {
     "name": "stdout",
     "output_type": "stream",
     "text": [
      "Precision = 0.80493017953833\n",
      "Recall = 0.7950096498483595\n",
      "Accuracy = 0.8212290502793296\n"
     ]
    }
   ],
   "source": [
    "preds = rfc.predict(X_test)\n",
    "evaluate(y_test, preds)"
   ]
  },
  {
   "cell_type": "code",
   "execution_count": 79,
   "id": "f943155c-3365-4958-85db-c05f0306e2a9",
   "metadata": {},
   "outputs": [],
   "source": [
    "from sklearn.model_selection import GridSearchCV\n",
    "# Create the parameter grid based on the results of random search \n",
    "param_grid = {\n",
    "    'bootstrap': [False],\n",
    "    'max_depth': [25, 50, 75],\n",
    "    'max_features': [2, 3, 5],\n",
    "    'min_samples_leaf': [3, 4, 5],\n",
    "    'min_samples_split': [8, 10, 12],\n",
    "    'n_estimators': [100, 200, 300]\n",
    "}"
   ]
  },
  {
   "cell_type": "code",
   "execution_count": 80,
   "id": "c46d630c-cf98-465a-880f-7fa3535d1169",
   "metadata": {},
   "outputs": [],
   "source": [
    "rfc_grid_search = GridSearchCV(estimator = rfc, param_grid = param_grid, \n",
    "                               cv = 3, n_jobs = -1, verbose = 1)"
   ]
  },
  {
   "cell_type": "code",
   "execution_count": 81,
   "id": "de176b42-9134-4b02-ba9c-07574461cd86",
   "metadata": {},
   "outputs": [
    {
     "name": "stdout",
     "output_type": "stream",
     "text": [
      "Fitting 3 folds for each of 243 candidates, totalling 729 fits\n"
     ]
    },
    {
     "data": {
      "text/plain": [
       "{'bootstrap': False,\n",
       " 'max_depth': 25,\n",
       " 'max_features': 2,\n",
       " 'min_samples_leaf': 3,\n",
       " 'min_samples_split': 10,\n",
       " 'n_estimators': 100}"
      ]
     },
     "execution_count": 81,
     "metadata": {},
     "output_type": "execute_result"
    }
   ],
   "source": [
    "# Fit the grid search to the data\n",
    "rfc_grid_search.fit(X_train, y_train)\n",
    "rfc_grid_search.best_params_"
   ]
  },
  {
   "cell_type": "code",
   "execution_count": 82,
   "id": "360f25f4-0605-46dc-84a5-664114ee84f4",
   "metadata": {},
   "outputs": [
    {
     "name": "stdout",
     "output_type": "stream",
     "text": [
      "Precision = 0.8088888888888889\n",
      "Recall = 0.7874276261373035\n",
      "Accuracy = 0.8212290502793296\n"
     ]
    }
   ],
   "source": [
    "preds = rfc_grid_search.best_estimator_.predict(X_test)\n",
    "evaluate(y_test, preds)"
   ]
  },
  {
   "cell_type": "code",
   "execution_count": 83,
   "id": "7a1a7bd5-cc8b-4175-95e0-4a238338fcfb",
   "metadata": {},
   "outputs": [
    {
     "data": {
      "image/png": "[encoded data removed]",
      "text/plain": [
       "<Figure size 432x288 with 1 Axes>"
      ]
     },
     "metadata": {
      "needs_background": "light"
     },
     "output_type": "display_data"
    }
   ],
   "source": [
    "importances = rfc_grid_search.best_estimator_.feature_importances_\n",
    "indices = np.argsort(importances)[-15:]  # top 10 features\n",
    "plt.title('Feature Importances')\n",
    "plt.barh(range(len(indices)), importances[indices], color='b', align='center')\n",
    "plt.yticks(range(len(indices)), [feature_names[i] for i in indices])\n",
    "plt.xlabel('Relative Importance')\n",
    "plt.show()"
   ]
  },
  {
   "cell_type": "code",
   "execution_count": 84,
   "id": "dbe4e88a-3a3c-4635-9832-939458d13182",
   "metadata": {},
   "outputs": [
    {
     "data": {
      "image/png": "[encoded data removed]",
      "text/plain": [
       "<Figure size 576x511.2 with 1 Axes>"
      ]
     },
     "metadata": {
      "needs_background": "light"
     },
     "output_type": "display_data"
    }
   ],
   "source": [
    "shap_values = shap.TreeExplainer(rfc_grid_search.best_estimator_).shap_values(X_train)\n",
    "shap.summary_plot(shap_values, X_train, plot_type=\"bar\", feature_names=feature_names)"
   ]
  },
  {
   "cell_type": "code",
   "execution_count": 85,
   "id": "00685568-910d-4576-9c8e-450941a5f5cd",
   "metadata": {},
   "outputs": [],
   "source": [
    "preds = rfc_grid_search.predict(features_submission)\n",
    "df_sub = prepare_submission(preds)\n",
    "df_sub.to_csv('titanic/submission_rfc.csv', index=False)"
   ]
  },
  {
   "cell_type": "markdown",
   "id": "3a7ddc6a-f1e8-4f94-833e-97bb87f98a42",
   "metadata": {},
   "source": [
    "### Feature selection (based on SHAP values, and redundancy)"
   ]
  },
  {
   "cell_type": "code",
   "execution_count": 86,
   "id": "30d1f133-16ad-46b2-a525-15af76457e39",
   "metadata": {},
   "outputs": [
    {
     "data": {
      "text/plain": [
       "[0, 1, 4, 5, 6]"
      ]
     },
     "execution_count": 86,
     "metadata": {},
     "output_type": "execute_result"
    }
   ],
   "source": [
    "feats = ['Sex', 'Pclass', 'FareCategory', 'FamilySize', 'AgeGroup']\n",
    "indices = [i for i, f in enumerate(feature_names) if f in feats]\n",
    "indices"
   ]
  },
  {
   "cell_type": "code",
   "execution_count": 87,
   "id": "8e81a793-3b04-40b9-a380-ac014891eb6e",
   "metadata": {},
   "outputs": [],
   "source": [
    "X_train_subset = X_train[:, indices]\n",
    "X_test_subset = X_test[:, indices]\n",
    "features_submission_subset = features_submission[:, indices]"
   ]
  },
  {
   "cell_type": "code",
   "execution_count": 88,
   "id": "df28a74e-3b2e-49bb-b792-a285e29c0752",
   "metadata": {},
   "outputs": [
    {
     "name": "stdout",
     "output_type": "stream",
     "text": [
      "Precision = 0.8168613357292602\n",
      "Recall = 0.7917011304108078\n",
      "Accuracy = 0.8268156424581006\n"
     ]
    }
   ],
   "source": [
    "rfc = RandomForestClassifier(**rfc_grid_search.best_params_)\n",
    "rfc.fit(X_train_subset, y_train)\n",
    "preds = rfc.predict(X_test_subset)\n",
    "evaluate(y_test, preds)"
   ]
  },
  {
   "cell_type": "code",
   "execution_count": 89,
   "id": "c1831471-0d37-47d2-bb3f-4055937dcb99",
   "metadata": {},
   "outputs": [],
   "source": [
    "preds = rfc.predict(features_submission_subset)\n",
    "df_sub = prepare_submission(preds)\n",
    "df_sub.to_csv('titanic/submission_rfc_subset.csv', index=False)"
   ]
  },
  {
   "cell_type": "markdown",
   "id": "0d25ed3e-ec87-4ee1-a2c6-a9982ef7116f",
   "metadata": {
    "tags": []
   },
   "source": [
    "## XGBoost"
   ]
  },
  {
   "cell_type": "code",
   "execution_count": 90,
   "id": "f25dc1cc-c762-4829-9790-e6c0b3260e9d",
   "metadata": {},
   "outputs": [],
   "source": [
    "from xgboost import XGBClassifier"
   ]
  },
  {
   "cell_type": "code",
   "execution_count": 91,
   "id": "95b79025-7cfd-43cb-83e0-52c4dbc629fa",
   "metadata": {},
   "outputs": [],
   "source": [
    "xgb = XGBClassifier(learning_rate=0.02, n_estimators=100, objective='binary:logistic', \n",
    "                    verbosity=1, use_label_encoder=False, eval_metric='logloss')"
   ]
  },
  {
   "cell_type": "code",
   "execution_count": 92,
   "id": "99b1ff5b-8597-400f-9aca-02f72d5a2985",
   "metadata": {},
   "outputs": [
    {
     "data": {
      "text/plain": [
       "XGBClassifier(base_score=0.5, booster='gbtree', colsample_bylevel=1,\n",
       "              colsample_bynode=1, colsample_bytree=1, enable_categorical=False,\n",
       "              eval_metric='logloss', gamma=0, gpu_id=-1, importance_type=None,\n",
       "              interaction_constraints='', learning_rate=0.02, max_delta_step=0,\n",
       "              max_depth=6, min_child_weight=1, missing=nan,\n",
       "              monotone_constraints='()', n_estimators=100, n_jobs=4,\n",
       "              num_parallel_tree=1, predictor='auto', random_state=0,\n",
       "              reg_alpha=0, reg_lambda=1, scale_pos_weight=1, subsample=1,\n",
       "              tree_method='exact', use_label_encoder=False,\n",
       "              validate_parameters=1, verbosity=1)"
      ]
     },
     "execution_count": 92,
     "metadata": {},
     "output_type": "execute_result"
    }
   ],
   "source": [
    "xgb.fit(X_train, y_train)"
   ]
  },
  {
   "cell_type": "code",
   "execution_count": 93,
   "id": "650b5f0d-3575-4c96-b456-c85298453f2b",
   "metadata": {},
   "outputs": [
    {
     "name": "stdout",
     "output_type": "stream",
     "text": [
      "Precision = 0.8336397058823529\n",
      "Recall = 0.8002481389578164\n",
      "Accuracy = 0.8379888268156425\n"
     ]
    }
   ],
   "source": [
    "preds = xgb.predict(X_test)\n",
    "evaluate(y_test, preds)"
   ]
  },
  {
   "cell_type": "code",
   "execution_count": 94,
   "id": "18ad02cb-0d45-4314-895d-22acbe810f07",
   "metadata": {},
   "outputs": [],
   "source": [
    "from sklearn.model_selection import GridSearchCV\n",
    "param_grid = {\n",
    "    'n_estimators': [25, 50, 75],\n",
    "    'min_child_weight': [1],\n",
    "    'gamma': [0.5, 1],\n",
    "    'subsample': [0.9, 1.0],\n",
    "    'colsample_bytree': [0.9, 1.0],\n",
    "    'max_depth': [10, 20, 50, 100]\n",
    "    }"
   ]
  },
  {
   "cell_type": "code",
   "execution_count": 95,
   "id": "13f45de9-59ff-4153-bb78-8708257ef390",
   "metadata": {},
   "outputs": [
    {
     "name": "stdout",
     "output_type": "stream",
     "text": [
      "Fitting 3 folds for each of 96 candidates, totalling 288 fits\n"
     ]
    },
    {
     "data": {
      "text/plain": [
       "{'colsample_bytree': 0.9,\n",
       " 'gamma': 0.5,\n",
       " 'max_depth': 10,\n",
       " 'min_child_weight': 1,\n",
       " 'n_estimators': 25,\n",
       " 'subsample': 1.0}"
      ]
     },
     "execution_count": 95,
     "metadata": {},
     "output_type": "execute_result"
    }
   ],
   "source": [
    "# Fit the grid search to the data\n",
    "xgb_grid_search = GridSearchCV(estimator = xgb, param_grid = param_grid, \n",
    "                          cv = 3, n_jobs = 3, verbose = 1)\n",
    "xgb_grid_search.fit(X_train, y_train)\n",
    "xgb_grid_search.best_params_"
   ]
  },
  {
   "cell_type": "code",
   "execution_count": 96,
   "id": "c92f252f-2cf0-4b54-a3bc-fdd9204c162b",
   "metadata": {},
   "outputs": [
    {
     "name": "stdout",
     "output_type": "stream",
     "text": [
      "Precision = 0.8386583888552392\n",
      "Recall = 0.8083126550868487\n",
      "Accuracy = 0.8435754189944135\n"
     ]
    }
   ],
   "source": [
    "preds = xgb_grid_search.predict(X_test)\n",
    "evaluate(y_test, preds)"
   ]
  },
  {
   "cell_type": "code",
   "execution_count": 97,
   "id": "085425bb-aa70-4c37-8275-75d66f5281d3",
   "metadata": {},
   "outputs": [
    {
     "data": {
      "image/png": "[encoded data removed]",
      "text/plain": [
       "<Figure size 432x288 with 1 Axes>"
      ]
     },
     "metadata": {
      "needs_background": "light"
     },
     "output_type": "display_data"
    }
   ],
   "source": [
    "importances = xgb_grid_search.best_estimator_.feature_importances_\n",
    "indices = np.argsort(importances)[-15:]  # top 10 features\n",
    "plt.title('Feature Importances')\n",
    "plt.barh(range(len(indices)), importances[indices], color='b', align='center')\n",
    "plt.yticks(range(len(indices)), [feature_names[i] for i in indices])\n",
    "plt.xlabel('Relative Importance')\n",
    "plt.show()"
   ]
  },
  {
   "cell_type": "code",
   "execution_count": 98,
   "id": "eaff59f4-f9b3-4708-b8f0-e43fdb0fcfda",
   "metadata": {},
   "outputs": [
    {
     "name": "stderr",
     "output_type": "stream",
     "text": [
      "ntree_limit is deprecated, use `iteration_range` or model slicing instead.\n"
     ]
    },
    {
     "data": {
      "image/png": "[encoded data removed]",
      "text/plain": [
       "<Figure size 576x511.2 with 1 Axes>"
      ]
     },
     "metadata": {
      "needs_background": "light"
     },
     "output_type": "display_data"
    }
   ],
   "source": [
    "shap_values = shap.TreeExplainer(xgb_grid_search.best_estimator_).shap_values(X_train)\n",
    "shap.summary_plot(shap_values, X_train, plot_type=\"bar\", feature_names=feature_names)"
   ]
  },
  {
   "cell_type": "code",
   "execution_count": 99,
   "id": "90a55dd5-5da7-49b9-bad9-a2cf4cedab59",
   "metadata": {},
   "outputs": [],
   "source": [
    "preds = xgb_grid_search.predict(features_submission)\n",
    "df_sub = prepare_submission(preds)\n",
    "df_sub.to_csv('titanic/submission_xgboost.csv', index=False)"
   ]
  },
  {
   "cell_type": "markdown",
   "id": "f26a2201-3861-485b-817f-63e9f3c7698a",
   "metadata": {},
   "source": [
    "### Feature selection (based on SHAP values, and redundancy)"
   ]
  },
  {
   "cell_type": "code",
   "execution_count": 108,
   "id": "42c9eaa8-087d-46da-8b4a-993c951cb4c6",
   "metadata": {},
   "outputs": [
    {
     "data": {
      "text/plain": [
       "[0, 1, 4, 5, 6]"
      ]
     },
     "execution_count": 108,
     "metadata": {},
     "output_type": "execute_result"
    }
   ],
   "source": [
    "feats = ['Sex', 'Pclass', 'FareCategory', 'FamilySize', 'AgeGroup']\n",
    "indices = [i for i, f in enumerate(feature_names) if f in feats]\n",
    "indices"
   ]
  },
  {
   "cell_type": "code",
   "execution_count": 109,
   "id": "1baceebb-47de-41d1-9141-c886d7cb15cd",
   "metadata": {},
   "outputs": [],
   "source": [
    "X_train_subset = X_train[:, indices]\n",
    "X_test_subset = X_test[:, indices]\n",
    "features_submission_subset = features_submission[:, indices]"
   ]
  },
  {
   "cell_type": "code",
   "execution_count": 111,
   "id": "08b41244-350a-4f61-9fae-fd0f7a2c9813",
   "metadata": {},
   "outputs": [
    {
     "name": "stdout",
     "output_type": "stream",
     "text": [
      "[17:20:39] WARNING: /Users/runner/work/xgboost/xgboost/src/learner.cc:1115: Starting in XGBoost 1.3.0, the default evaluation metric used with the objective 'binary:logistic' was changed from 'error' to 'logloss'. Explicitly set eval_metric if you'd like to restore the old behavior.\n",
      "Precision = 0.8250647109577222\n",
      "Recall = 0.8116211745244004\n",
      "Accuracy = 0.8379888268156425\n"
     ]
    },
    {
     "name": "stderr",
     "output_type": "stream",
     "text": [
      "The use of label encoder in XGBClassifier is deprecated and will be removed in a future release. To remove this warning, do the following: 1) Pass option use_label_encoder=False when constructing XGBClassifier object; and 2) Encode your labels (y) as integers starting with 0, i.e. 0, 1, 2, ..., [num_class - 1].\n"
     ]
    }
   ],
   "source": [
    "xgb = XGBClassifier(**xgb_grid_search.best_params_)\n",
    "xgb.fit(X_train_subset, y_train)\n",
    "preds = xgb.predict(X_test_subset)\n",
    "evaluate(y_test, preds)"
   ]
  },
  {
   "cell_type": "code",
   "execution_count": 112,
   "id": "f6d96437-2241-4733-ba80-c032d8fd72b7",
   "metadata": {},
   "outputs": [],
   "source": [
    "preds = xgb.predict(features_submission_subset)\n",
    "df_sub = prepare_submission(preds)\n",
    "df_sub.to_csv('titanic/submission_xgboost_subset.csv', index=False)"
   ]
  },
  {
   "cell_type": "markdown",
   "id": "262e45af-4a70-497c-9f6f-2624e06e640c",
   "metadata": {
    "tags": []
   },
   "source": [
    "## Deep Learning"
   ]
  },
  {
   "cell_type": "code",
   "execution_count": 113,
   "id": "5988e354-0ff0-4657-9608-9fbabc4494e6",
   "metadata": {},
   "outputs": [],
   "source": [
    "import keras"
   ]
  },
  {
   "cell_type": "code",
   "execution_count": 114,
   "id": "12962811-3e83-47e7-ad6f-0a4c0b9e10db",
   "metadata": {},
   "outputs": [],
   "source": [
    "import tensorflow as tf  # deep learning library. Tensors are just multi-dimensional arrays\n",
    "from tensorflow.keras.models import Sequential\n",
    "from tensorflow.keras.layers import Flatten, Dense\n",
    "from tensorflow.keras.datasets import mnist\n",
    "from tensorflow.keras.utils import normalize"
   ]
  },
  {
   "cell_type": "code",
   "execution_count": 115,
   "id": "75ff8759-a833-4520-badc-4146e5f4cca7",
   "metadata": {},
   "outputs": [
    {
     "name": "stderr",
     "output_type": "stream",
     "text": [
      "2021-12-18 17:21:03.112238: I tensorflow/core/platform/cpu_feature_guard.cc:151] This TensorFlow binary is optimized with oneAPI Deep Neural Network Library (oneDNN) to use the following CPU instructions in performance-critical operations:  AVX2 FMA\n",
      "To enable them in other operations, rebuild TensorFlow with the appropriate compiler flags.\n"
     ]
    }
   ],
   "source": [
    "model = Sequential()"
   ]
  },
  {
   "cell_type": "code",
   "execution_count": 116,
   "id": "3e7dcc64-b7f5-451d-8857-d92a3e2f71ed",
   "metadata": {},
   "outputs": [],
   "source": [
    "model.add(Dense(32, activation=tf.nn.relu)) \n",
    "model.add(Dense(24, activation=tf.nn.relu))  \n",
    "model.add(Dense(24, activation=tf.nn.relu))  \n",
    "model.add(Dense(24, activation=tf.nn.relu))  "
   ]
  },
  {
   "cell_type": "code",
   "execution_count": 117,
   "id": "9899834c-979a-4bfe-ad57-354c5f886303",
   "metadata": {},
   "outputs": [],
   "source": [
    "model.add(Dense(2, activation=tf.nn.softmax))"
   ]
  },
  {
   "cell_type": "code",
   "execution_count": 118,
   "id": "07545511-89df-4ed3-9336-13ca41c36dbf",
   "metadata": {},
   "outputs": [],
   "source": [
    "model.compile(optimizer='sgd', # usually we use 'adam' as default to start with. Now we use sgd to compare with last week's model\n",
    "              loss='sparse_categorical_crossentropy', \n",
    "              metrics=['accuracy'])  # what to track"
   ]
  },
  {
   "cell_type": "code",
   "execution_count": 129,
   "id": "91fc1b95-92a9-46eb-bb8d-2bcd64ab703d",
   "metadata": {},
   "outputs": [
    {
     "data": {
      "text/plain": [
       "<keras.callbacks.History at 0x7fc3baf216d0>"
      ]
     },
     "execution_count": 129,
     "metadata": {},
     "output_type": "execute_result"
    }
   ],
   "source": [
    "model.fit(X_train, y_train, epochs=100, verbose=0)"
   ]
  },
  {
   "cell_type": "code",
   "execution_count": 130,
   "id": "b56f7644-a172-4cd3-9f1e-9c5d083c5add",
   "metadata": {},
   "outputs": [
    {
     "name": "stdout",
     "output_type": "stream",
     "text": [
      "Model: \"sequential\"\n",
      "_________________________________________________________________\n",
      " Layer (type)                Output Shape              Param #   \n",
      "=================================================================\n",
      " dense (Dense)               (None, 32)                480       \n",
      "                                                                 \n",
      " dense_1 (Dense)             (None, 24)                792       \n",
      "                                                                 \n",
      " dense_2 (Dense)             (None, 24)                600       \n",
      "                                                                 \n",
      " dense_3 (Dense)             (None, 24)                600       \n",
      "                                                                 \n",
      " dense_4 (Dense)             (None, 2)                 50        \n",
      "                                                                 \n",
      "=================================================================\n",
      "Total params: 2,522\n",
      "Trainable params: 2,522\n",
      "Non-trainable params: 0\n",
      "_________________________________________________________________\n"
     ]
    }
   ],
   "source": [
    "model.summary()"
   ]
  },
  {
   "cell_type": "code",
   "execution_count": 131,
   "id": "f6d26512-5167-43fa-bcfc-b119307023ff",
   "metadata": {},
   "outputs": [
    {
     "name": "stdout",
     "output_type": "stream",
     "text": [
      "6/6 [==============================] - 0s 3ms/step - loss: 0.4336 - accuracy: 0.8156\n",
      "0.43356531858444214\n",
      "0.8156424760818481\n"
     ]
    }
   ],
   "source": [
    "pred=model.predict(X_test)\n",
    "val_loss, val_acc = model.evaluate(X_test, y_test)  \n",
    "print(val_loss)  # model's loss (error)\n",
    "print(val_acc)  # model's accuracy"
   ]
  },
  {
   "cell_type": "code",
   "execution_count": 132,
   "id": "7f373456-5e44-4ea6-8471-ed0c33d5b26d",
   "metadata": {},
   "outputs": [
    {
     "name": "stdout",
     "output_type": "stream",
     "text": [
      "14/14 [==============================] - 0s 2ms/step - loss: 0.0000e+00 - accuracy: 0.0000e+00\n"
     ]
    }
   ],
   "source": [
    "preds = model.evaluate(features_submission)\n",
    "df_sub = prepare_submission(preds)\n",
    "df_sub.to_csv('titanic/submission_dnn.csv', index=False)"
   ]
  },
  {
   "cell_type": "markdown",
   "id": "29bcf7a5-ffbe-4f44-8ae3-1845e75b97c2",
   "metadata": {},
   "source": [
    "# Observations\n",
    "\n",
    "Random forest classification with selection of best performing features (after grouping) outperformed all the other models on the challenge test dataset."
   ]
  },
  {
   "cell_type": "code",
   "execution_count": null,
   "id": "c3425e34-8bff-46a4-9472-5aa1e6ff9336",
   "metadata": {},
   "outputs": [],
   "source": []
  }
 ],
 "metadata": {
  "kernelspec": {
   "display_name": "Python 3 (ipykernel)",
   "language": "python",
   "name": "python3"
  },
  "language_info": {
   "codemirror_mode": {
    "name": "ipython",
    "version": 3
   },
   "file_extension": ".py",
   "mimetype": "text/x-python",
   "name": "python",
   "nbconvert_exporter": "python",
   "pygments_lexer": "ipython3",
   "version": "3.7.10"
  },
  "toc-autonumbering": false,
  "toc-showcode": false
 },
 "nbformat": 4,
 "nbformat_minor": 5
}
